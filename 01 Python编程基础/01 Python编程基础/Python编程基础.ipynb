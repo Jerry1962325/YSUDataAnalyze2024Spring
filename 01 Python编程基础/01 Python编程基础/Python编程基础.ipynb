{
 "cells": [
  {
   "cell_type": "markdown",
   "metadata": {},
   "source": [
    "# Python编程基础\n",
    "\n",
    ">*by* 马川  *燕山大学*\n",
    "\n",
    ">**代码胜于雄辩**\n",
    "\n",
    ">**Talks is cheap. Show me the code.**\n",
    "\n",
    ">                       ----Linus Torvalds(Linux操作系统的奠基者)"
   ]
  },
  {
   "cell_type": "markdown",
   "metadata": {},
   "source": [
    "对于任何一种计算机语言，最重要的就是：\n",
    "\n",
    "1. **<font color='red'>数据类型</font>**\n",
    "\n",
    "2. **<font color='red'>控制结构</font>**\n",
    "\n",
    "3. **<font color='red'>函数</font>**\n",
    "\n",
    "这三方面一定要打牢基础。\n",
    "\n",
    "此外 Python 非常简洁，具有很多**<font color='red'>高级特性</font>**，使得一行代码 (one-liner) 就能做很多事情，我们将重点介绍各种「解析式」和「高阶函数」。\n",
    "\n",
    "本章整体脉络如下图所示：\n",
    "\n",
    "![](images/view.png)"
   ]
  },
  {
   "cell_type": "markdown",
   "metadata": {},
   "source": [
    "## 00 Python概览"
   ]
  },
  {
   "cell_type": "markdown",
   "metadata": {},
   "source": [
    "### Python语法元素分析\n",
    "\n",
    "格式框架、注释、变量、表达式、语句函数"
   ]
  },
  {
   "cell_type": "markdown",
   "metadata": {},
   "source": [
    "### 缩进\n",
    "\n",
    "1个缩进 = 4个空格\n",
    "\n",
    "(1)用以在Python中标明代码的层次关系\n",
    "\n",
    "(2)缩进是Python语言中表明程序框架的唯一手段\n"
   ]
  },
  {
   "cell_type": "markdown",
   "metadata": {},
   "source": [
    "### 注释"
   ]
  },
  {
   "cell_type": "code",
   "execution_count": null,
   "metadata": {},
   "outputs": [],
   "source": [
    "#单行注释以#开头\n",
    "print(\"Hello world\")  #打印显示\n",
    "\n",
    "#多行注释以 '''开头和结尾\n",
    "'''\n",
    "  This is a multiline comment\n",
    "  used in Python\n",
    "'''"
   ]
  },
  {
   "cell_type": "markdown",
   "metadata": {},
   "source": [
    "### 命名与保留字"
   ]
  },
  {
   "cell_type": "markdown",
   "metadata": {},
   "source": [
    "**常量**： 程序中值不发生改变的元素\n",
    "\n",
    "**变量**：程序中值发生改变或者可以发生改变的元素\n",
    "\n",
    "Python语言允许采用**大写字母、小写字母、数字、下划线(_)和汉字等字符及其组合**给变量命名，但名字的**首字符不能是数字**，**中间不能出现空格**，长度没有限制\n",
    "注意：标识符对**大小写敏感**，python和Python是两个不同的名字 \n"
   ]
  },
  {
   "cell_type": "markdown",
   "metadata": {},
   "source": [
    "### 赋值语句"
   ]
  },
  {
   "cell_type": "markdown",
   "metadata": {},
   "source": [
    "Python语言中，= 表示“赋值”，即将等号右侧的值计算后将结果值赋给左侧变量，包含等号（=）的语句称为“赋值语句”"
   ]
  },
  {
   "cell_type": "markdown",
   "metadata": {},
   "source": [
    "#### 同步赋值"
   ]
  },
  {
   "cell_type": "code",
   "execution_count": null,
   "metadata": {},
   "outputs": [],
   "source": [
    "x=5\n",
    "y=10\n",
    "x,y=y,x\n",
    "print(x,y)\n",
    "\n",
    "x,y,z=1,4,5\n",
    "print(x,y,z)"
   ]
  },
  {
   "cell_type": "markdown",
   "metadata": {},
   "source": [
    "### input()函数"
   ]
  },
  {
   "cell_type": "markdown",
   "metadata": {},
   "source": [
    "获得用户输入之前，input()函数可以包含一些提示性文字 \n",
    "\n",
    "                <变量> = input(<提示性文字>)  字符型"
   ]
  },
  {
   "cell_type": "code",
   "execution_count": null,
   "metadata": {},
   "outputs": [],
   "source": [
    "input(\"请输入: \")"
   ]
  },
  {
   "cell_type": "markdown",
   "metadata": {},
   "source": [
    "### 输出函数"
   ]
  },
  {
   "cell_type": "code",
   "execution_count": null,
   "metadata": {},
   "outputs": [],
   "source": [
    "#print()函数用来输出字符信息，或以字符形式输出变量。\n",
    "print(\"Hello world!\")"
   ]
  },
  {
   "cell_type": "code",
   "execution_count": null,
   "metadata": {},
   "outputs": [],
   "source": [
    "print(\"Hello\")\n",
    "print(\"world!\")"
   ]
  },
  {
   "cell_type": "code",
   "execution_count": 35,
   "metadata": {},
   "outputs": [
    {
     "name": "stdout",
     "output_type": "stream",
     "text": [
      "Helloworld!\n"
     ]
    }
   ],
   "source": [
    "print(\"Hello\",end='')\n",
    "print(\"world!\")"
   ]
  },
  {
   "cell_type": "code",
   "execution_count": null,
   "metadata": {},
   "outputs": [],
   "source": [
    "print(\"Hello\", \"world!\")"
   ]
  },
  {
   "cell_type": "markdown",
   "metadata": {},
   "source": [
    "### Python 库的引入与调用"
   ]
  },
  {
   "cell_type": "markdown",
   "metadata": {},
   "source": [
    "### import关键字\n",
    "\n",
    "import是一个关键字，用来引入一些外部库"
   ]
  },
  {
   "cell_type": "markdown",
   "metadata": {},
   "source": [
    "#### 引入方式1"
   ]
  },
  {
   "cell_type": "code",
   "execution_count": null,
   "metadata": {},
   "outputs": [],
   "source": [
    "import numpy\n",
    "numpy.arange(0,10)"
   ]
  },
  {
   "cell_type": "markdown",
   "metadata": {},
   "source": [
    "#### 引入方式2"
   ]
  },
  {
   "cell_type": "code",
   "execution_count": null,
   "metadata": {},
   "outputs": [],
   "source": [
    "from numpy import *  \n",
    "arange(0,10)"
   ]
  },
  {
   "cell_type": "markdown",
   "metadata": {},
   "source": [
    "#### 引入方式3"
   ]
  },
  {
   "cell_type": "code",
   "execution_count": null,
   "metadata": {},
   "outputs": [],
   "source": [
    "import numpy as np\n",
    "np.arange(0,10)"
   ]
  },
  {
   "cell_type": "markdown",
   "metadata": {},
   "source": [
    "## 01 数据"
   ]
  },
  {
   "cell_type": "markdown",
   "metadata": {},
   "source": [
    "在 Python 中数据可分两大类：\n",
    "\n",
    "* **基本数据类型**(元素型)：整数、浮点数、复数、布尔型\n",
    "\n",
    "* **组合数据类型**(容器型)：字符串、元组、列表、字典、集合"
   ]
  },
  {
   "cell_type": "markdown",
   "metadata": {},
   "source": [
    "### 1.1 基本数据类型（元素型）\n",
    "\n",
    "Python 里面有自己的内置数据类型 (build-in data type)，本节介绍四种**数字类型(Numbers)**:\n",
    "\n",
    "1. **整型 (int)**\n",
    "\n",
    "2. **浮点型 (float)**\n",
    "\n",
    "3. **复数 (complex)**\n",
    "\n",
    "4. **布尔型 (bool)**\n",
    "\n",
    "#### 思维导图(图中左侧部分的字符串属于组合数据类型)"
   ]
  },
  {
   "cell_type": "markdown",
   "metadata": {},
   "source": [
    "![Mcpicture](./images/basicdata.png)"
   ]
  },
  {
   "cell_type": "markdown",
   "metadata": {},
   "source": [
    "### 数字类型"
   ]
  },
  {
   "cell_type": "code",
   "execution_count": null,
   "metadata": {},
   "outputs": [],
   "source": [
    "print( 1, type(1) )\n",
    "print( 1., type(1.) )\n",
    "print( 1 + 2j, type(1 + 2j) )\n",
    "print( True, type( True ))"
   ]
  },
  {
   "cell_type": "markdown",
   "metadata": {},
   "source": [
    "### 布尔型 (boolean)\n",
    "\n",
    "布尔 (boolean) 型变量只能取两个值，True 和 False。当把布尔变量用在数字运算中，用 1 和 0 代表 True 和 False。"
   ]
  },
  {
   "cell_type": "code",
   "execution_count": null,
   "metadata": {},
   "outputs": [],
   "source": [
    "T = True\n",
    "F = False\n",
    "print( T + 2 )\n",
    "print( F - 8 )"
   ]
  },
  {
   "cell_type": "markdown",
   "metadata": {},
   "source": [
    "### 基本运算\n",
    "\n",
    "#### 算术运算\n",
    "\n",
    "算术运算符，包括 +、-、\\*、/、//，% , \\*\\*"
   ]
  },
  {
   "cell_type": "code",
   "execution_count": null,
   "metadata": {},
   "outputs": [],
   "source": [
    "10 / 3"
   ]
  },
  {
   "cell_type": "code",
   "execution_count": null,
   "metadata": {},
   "outputs": [],
   "source": [
    "10 // 3"
   ]
  },
  {
   "cell_type": "code",
   "execution_count": null,
   "metadata": {},
   "outputs": [],
   "source": [
    "2 ** 3"
   ]
  },
  {
   "cell_type": "markdown",
   "metadata": {},
   "source": [
    "#### 比较运算\n",
    "比较运算符，包括 >、<、==、>=、<=，!=,比较运算的结果为 True 或者 False"
   ]
  },
  {
   "cell_type": "code",
   "execution_count": null,
   "metadata": {},
   "outputs": [],
   "source": [
    "# 注意区分数字和字符串的差别\n",
    "5 == \"5\""
   ]
  },
  {
   "cell_type": "code",
   "execution_count": null,
   "metadata": {},
   "outputs": [],
   "source": [
    "5 != 4"
   ]
  },
  {
   "cell_type": "markdown",
   "metadata": {},
   "source": [
    "#### 逻辑运算\n",
    "\n",
    "逻辑运算符，包括 and, or, not"
   ]
  },
  {
   "cell_type": "code",
   "execution_count": null,
   "metadata": {},
   "outputs": [],
   "source": [
    "# x and y 如果x为False，则返回False，否则返回y的计算值\n",
    "10 and 20+5"
   ]
  },
  {
   "cell_type": "code",
   "execution_count": null,
   "metadata": {},
   "outputs": [],
   "source": [
    "x = 25\n",
    "x<5 or x>20 "
   ]
  },
  {
   "cell_type": "code",
   "execution_count": null,
   "metadata": {},
   "outputs": [],
   "source": [
    "not True"
   ]
  },
  {
   "cell_type": "markdown",
   "metadata": {},
   "source": [
    "### 数字类型的转换"
   ]
  },
  {
   "cell_type": "code",
   "execution_count": null,
   "metadata": {},
   "outputs": [],
   "source": [
    "int(4.5) # = 4  ，直接去掉小数部分"
   ]
  },
  {
   "cell_type": "code",
   "execution_count": null,
   "metadata": {},
   "outputs": [],
   "source": [
    "float(4) # = 4.0，增加小数部分"
   ]
  },
  {
   "cell_type": "code",
   "execution_count": null,
   "metadata": {},
   "outputs": [],
   "source": [
    "complex(4) # = 4 + 0j"
   ]
  },
  {
   "cell_type": "code",
   "execution_count": null,
   "metadata": {},
   "outputs": [],
   "source": [
    "bool(4.5)"
   ]
  },
  {
   "cell_type": "markdown",
   "metadata": {},
   "source": [
    "**bool(x)** \n",
    "\n",
    "若x为基本数据类型，则只要x不是整型 0、浮点型 0.0，bool(x) 就是 True，其余就是 False。\n",
    "\n",
    "若x为组合数据类型，则只要x不是空的变量，bool(x) 就是 True，其余就是 False。"
   ]
  },
  {
   "cell_type": "markdown",
   "metadata": {},
   "source": [
    "#### 字符串 和 数字 之间的区别:"
   ]
  },
  {
   "cell_type": "code",
   "execution_count": null,
   "metadata": {},
   "outputs": [],
   "source": [
    "4 + 5"
   ]
  },
  {
   "cell_type": "code",
   "execution_count": null,
   "metadata": {},
   "outputs": [],
   "source": [
    "\"4\" + \"5\""
   ]
  },
  {
   "cell_type": "code",
   "execution_count": null,
   "metadata": {},
   "outputs": [],
   "source": [
    "\"4\" + 5"
   ]
  },
  {
   "cell_type": "code",
   "execution_count": null,
   "metadata": {},
   "outputs": [],
   "source": [
    "4 * 2"
   ]
  },
  {
   "cell_type": "code",
   "execution_count": null,
   "metadata": {},
   "outputs": [],
   "source": [
    "\"4\" * 2"
   ]
  },
  {
   "cell_type": "markdown",
   "metadata": {},
   "source": [
    "### 类型的判断\n",
    "\n",
    "**type()**\n",
    "\n",
    "函数：type(x)，返回x的类型，适用于所有类型的判断"
   ]
  },
  {
   "cell_type": "code",
   "execution_count": null,
   "metadata": {},
   "outputs": [],
   "source": [
    "type(4+2j)"
   ]
  },
  {
   "cell_type": "markdown",
   "metadata": {},
   "source": [
    "### dir和help函数\n",
    "\n",
    "**dir()**\n",
    "\n",
    "dir()用来查询一个类或者对象的所有属性"
   ]
  },
  {
   "cell_type": "code",
   "execution_count": null,
   "metadata": {},
   "outputs": [],
   "source": [
    "dir(list)"
   ]
  },
  {
   "cell_type": "markdown",
   "metadata": {},
   "source": [
    "**help()**\n",
    "\n",
    "help()函数帮助我们了解模块、类型、对象、方法、属性的详细信息\n",
    "\n",
    "1.帮助查看类型详细信息，包含类的创建方式、属性、方法"
   ]
  },
  {
   "cell_type": "code",
   "execution_count": null,
   "metadata": {},
   "outputs": [],
   "source": [
    "help(list)"
   ]
  },
  {
   "cell_type": "markdown",
   "metadata": {},
   "source": [
    "2.帮助查看方法的详细使用信息（使用时要注意输入完整路径，使用模块帮助时，需要先导入模块）"
   ]
  },
  {
   "cell_type": "code",
   "execution_count": null,
   "metadata": {},
   "outputs": [],
   "source": [
    "import math\n",
    "help(math.sqrt)"
   ]
  },
  {
   "cell_type": "markdown",
   "metadata": {},
   "source": [
    "### 1.2 组合数据类型(容器型)"
   ]
  },
  {
   "cell_type": "markdown",
   "metadata": {},
   "source": [
    "### 思维导图"
   ]
  },
  {
   "cell_type": "markdown",
   "metadata": {},
   "source": [
    "![Mcpicture](./images/complexdata.png)"
   ]
  },
  {
   "cell_type": "markdown",
   "metadata": {},
   "source": [
    "## 序列"
   ]
  },
  {
   "cell_type": "markdown",
   "metadata": {},
   "source": [
    "#### 序列是一组有顺序的元素向量，通过序号访问，元素之间不排他。"
   ]
  },
  {
   "cell_type": "markdown",
   "metadata": {},
   "source": [
    "### 1. 字符串(具体细节见“基本数据类型”思维导图左侧部分)"
   ]
  },
  {
   "cell_type": "code",
   "execution_count": 11,
   "metadata": {},
   "outputs": [
    {
     "name": "stdout",
     "output_type": "stream",
     "text": [
      "Hel\n",
      "Hello worl\n",
      "Hel\n"
     ]
    }
   ],
   "source": [
    "mystr=\"Hello world\"\n",
    "print(mystr[0:3])\n",
    "print(mystr[0:-1])\n",
    "print(\"Hello world\"[0:3])"
   ]
  },
  {
   "cell_type": "markdown",
   "metadata": {},
   "source": [
    "## 字符串类型及其操作"
   ]
  },
  {
   "cell_type": "markdown",
   "metadata": {},
   "source": [
    "字符串是用双引号“”或者单引号‘’ 或’’’括起来的一个或多个字符。\n",
    "\n",
    "字符串可以保存在变量中，也可以单独存在。"
   ]
  },
  {
   "cell_type": "code",
   "execution_count": null,
   "metadata": {},
   "outputs": [],
   "source": [
    "print('单引号表示可以使用\"双引号\"作为内容')\n",
    "print(\"双引号表示可以使用'单引号'作为内容\")\n",
    "print('''三引号表示可以使用\"双引号\"\n",
    "             单引号'作为内容'，还可以换行\n",
    "      ''')"
   ]
  },
  {
   "cell_type": "markdown",
   "metadata": {},
   "source": [
    "Python字符串的两种序号体系\n",
    "\n",
    "![Mcpicture](./images/strindex.png)"
   ]
  },
  {
   "cell_type": "code",
   "execution_count": 34,
   "metadata": {},
   "outputs": [
    {
     "data": {
      "text/plain": [
       "'Hello Worl'"
      ]
     },
     "execution_count": 34,
     "metadata": {},
     "output_type": "execute_result"
    }
   ],
   "source": [
    "str = \"Hello World\"\n",
    "str[0:-1] # 前闭后开"
   ]
  },
  {
   "cell_type": "markdown",
   "metadata": {},
   "source": [
    "### 常用的字符串处理函数"
   ]
  },
  {
   "cell_type": "markdown",
   "metadata": {},
   "source": [
    "### len\n",
    "\n",
    "len()函数返回一个字符串的长度"
   ]
  },
  {
   "cell_type": "code",
   "execution_count": null,
   "metadata": {},
   "outputs": [],
   "source": [
    "len(\"天行健，君子以自强不息\")"
   ]
  },
  {
   "cell_type": "markdown",
   "metadata": {},
   "source": [
    "### str\n",
    "\n",
    "大多数数据类型都可以通过str()函数转换为字符串"
   ]
  },
  {
   "cell_type": "code",
   "execution_count": null,
   "metadata": {},
   "outputs": [],
   "source": [
    "str(123.456)\n",
    "str(123e+10)"
   ]
  },
  {
   "cell_type": "markdown",
   "metadata": {},
   "source": [
    "### 遍历字符串\n",
    "\n",
    "可以通过 for 和 in 组成的循环来遍历字符串中每个字符"
   ]
  },
  {
   "cell_type": "code",
   "execution_count": null,
   "metadata": {},
   "outputs": [],
   "source": [
    "mystr=\"地势坤，君子以厚德载物\"\n",
    "for s in mystr:\n",
    "    print(s)"
   ]
  },
  {
   "cell_type": "markdown",
   "metadata": {},
   "source": [
    "### split\n",
    "\n",
    "按指定字符分割字符串为数组"
   ]
  },
  {
   "cell_type": "code",
   "execution_count": null,
   "metadata": {},
   "outputs": [],
   "source": [
    "mystr=\"敕勒川，阴山下，天似穹庐，笼盖四野\"\n",
    "mystr.split(\"，\")"
   ]
  },
  {
   "cell_type": "markdown",
   "metadata": {},
   "source": [
    "### join\n",
    "\n",
    "连接两个字符串序列"
   ]
  },
  {
   "cell_type": "code",
   "execution_count": null,
   "metadata": {},
   "outputs": [],
   "source": [
    "mystr = \"@\"\n",
    "ls = [\"天苍苍\",\"野茫茫\",\"风吹草低见牛羊\"]\n",
    "mystr.join(ls)"
   ]
  },
  {
   "cell_type": "markdown",
   "metadata": {},
   "source": [
    "### replace\n",
    "\n",
    "字符串替换"
   ]
  },
  {
   "cell_type": "code",
   "execution_count": null,
   "metadata": {},
   "outputs": [],
   "source": [
    "myOldStr=\"今夕何夕溪，搴舟中流。今日何日溪，得与王子同舟。\"\n",
    "myNewStr=myOldStr.replace(\"溪\",\"兮\")\n",
    "print(myNewStr)"
   ]
  },
  {
   "cell_type": "markdown",
   "metadata": {},
   "source": [
    "### format方法的基本使用"
   ]
  },
  {
   "cell_type": "code",
   "execution_count": 12,
   "metadata": {},
   "outputs": [
    {
     "data": {
      "text/plain": [
       "'乔峰大侠，丐帮人士，成名绝技降龙十八掌,此前已刻苦练功1234.5678个时辰'"
      ]
     },
     "execution_count": 12,
     "metadata": {},
     "output_type": "execute_result"
    }
   ],
   "source": [
    "hero=\"乔峰\"\n",
    "department=\"丐帮\"\n",
    "skill=\"降龙十八掌\"\n",
    "\n",
    "\"{}大侠，{}人士，成名绝技{},此前已刻苦练功{}个时辰\".format(hero,department,skill,1234.5678)\n",
    "\n",
    "#\"{0:*^30}大侠，{1}人士，成名绝技{2},此前已刻苦练功{3:,.2f}个时辰\".format(hero,department,skill,1234.5678)"
   ]
  },
  {
   "cell_type": "markdown",
   "metadata": {},
   "source": [
    "### 2. 元组\n",
    "\n",
    "元组的元素不能修改。元组写在小括号 ( ) 里，元素之间用逗号隔开，小括号可以省略\n",
    "\n",
    "元组中元素的类型可以不相同，支持嵌套"
   ]
  },
  {
   "cell_type": "code",
   "execution_count": null,
   "metadata": {},
   "outputs": [],
   "source": [
    "creature = \"cat\", \"dog\", \"tiger\", \"human\"\n",
    "color = (\"red\", 0x001100, \"blue\", creature)\n",
    "\n",
    "print(color[2])\n",
    "print(color[-1][2])"
   ]
  },
  {
   "cell_type": "markdown",
   "metadata": {},
   "source": [
    "#### 应用场景"
   ]
  },
  {
   "cell_type": "code",
   "execution_count": null,
   "metadata": {},
   "outputs": [],
   "source": [
    "def func(x):  #函数多返回值\n",
    "    return x, x**3\n",
    "\n",
    "a, b = 'dog', 'tiger'  #多变量同步赋值\n",
    "a, b = (b, a)      #多变量同步赋值，括号可省略"
   ]
  },
  {
   "cell_type": "code",
   "execution_count": null,
   "metadata": {},
   "outputs": [],
   "source": [
    "import math\n",
    "for x, y in ((1,0), (2,5), (3,8)):  #循环遍历\n",
    "        print(math.hypot(x,y))            #求多个坐标值到原点的距离"
   ]
  },
  {
   "cell_type": "markdown",
   "metadata": {},
   "source": [
    "### 3. 列表 \n",
    "\n",
    "List（列表） 是 Python 中最灵活、使用最频繁的数据类型，列表是写在方括号  [ ]  之间、元素之间用逗号分隔开"
   ]
  },
  {
   "cell_type": "code",
   "execution_count": null,
   "metadata": {},
   "outputs": [],
   "source": [
    "ls = [425, \"BIT\", [10, \"CS\"], 425]\n",
    "ls[2][-1][0]"
   ]
  },
  {
   "cell_type": "code",
   "execution_count": null,
   "metadata": {},
   "outputs": [],
   "source": [
    "vlist = list(range(5))\n",
    "vlist"
   ]
  },
  {
   "cell_type": "code",
   "execution_count": null,
   "metadata": {},
   "outputs": [],
   "source": [
    "vlist[3]=\"python\"   #修改序号3的元素值和类型\n",
    "vlist"
   ]
  },
  {
   "cell_type": "code",
   "execution_count": null,
   "metadata": {},
   "outputs": [],
   "source": [
    "ls = [\"1st\",\"2nd\",\"3rd\"]\n",
    "lt = [425, \"BIT\", [10, \"CS\"], 425, \"Hello Ysu\", 23, 425, (10,29)]\n",
    "\n",
    "#在列表ls最后增加一个元素x\n",
    "ls.append(\"4th\")\n",
    "print(ls)\n",
    "\n",
    "#删除ls中所有元素\n",
    "ls.clear()\n",
    "print(ls)\n",
    "\n",
    "#生成一个新列表，复制lt中所有元素\n",
    "ls = lt.copy()\n",
    "print(ls)\n",
    "\n",
    "#在列表ls第i位置增加元素x\n",
    "ls.insert(1,\"ysu\")\n",
    "print(ls)\n",
    "\n",
    "#将列表ls中第i项元素取出并删除该元素\n",
    "ls.pop(2)\n",
    "\n",
    "#将列表中出现的第一个元素x删除\n",
    "ls.remove(425)\n",
    "print(ls)\n",
    "\n",
    "#列表ls中元素反转\n",
    "ls.reverse()\n",
    "print(ls)"
   ]
  },
  {
   "cell_type": "code",
   "execution_count": null,
   "metadata": {},
   "outputs": [],
   "source": [
    "for e in vlist:\n",
    "    print(e, end=\" \")"
   ]
  },
  {
   "cell_type": "markdown",
   "metadata": {},
   "source": [
    "### 4. 集合"
   ]
  },
  {
   "cell_type": "markdown",
   "metadata": {},
   "source": [
    "#### 集合类型是一个元素集合，元素之间无序，相同元素在集合中唯一存在。\n",
    "\n",
    "可以使用大括号 { } 或者  set() 函数 创建集合"
   ]
  },
  {
   "cell_type": "code",
   "execution_count": null,
   "metadata": {},
   "outputs": [],
   "source": [
    "#元素类型只能是固定数据类型，例如：整数、浮点数、字符串、元组等\n",
    "S = {425, \"BIT\", (10, \"CS\"), 424}\n",
    "\n",
    "T = {425, \"BIT\", (10, \"CS\"), 424, 425, \"BIT\"}\n",
    "\n",
    "#列表、字典和集合类型本身都是可变数据类型，不能作为集合的元素出现。\n",
    "X = {425, \"BIT\", [10, \"CS\"], {\"蜀\":\"诸葛亮\"}, {234,(10,\"haha\")}}"
   ]
  },
  {
   "cell_type": "code",
   "execution_count": null,
   "metadata": {},
   "outputs": [],
   "source": [
    "#set(x)函数可以用于生成集合\n",
    "W = set('apple')\n",
    "\n",
    "V = set((\"cat\", \"dog\", \"tiger\", \"human\"))"
   ]
  },
  {
   "cell_type": "markdown",
   "metadata": {},
   "source": [
    "#### 应用场景"
   ]
  },
  {
   "cell_type": "code",
   "execution_count": null,
   "metadata": {},
   "outputs": [],
   "source": [
    "\"BIT\" in {\"PYTHON\", \"BIT\", 123, \"GOOD\"} #成员关系测试\n",
    "\n",
    "tup = (\"PYTHON\", \"BIT\", 123, \"GOOD\", 123) #元素去重\n",
    "set(tup)\n",
    "\n",
    "newtup = tuple(set(tup)-{'PYTHON'}) # 去重同时删除数据项"
   ]
  },
  {
   "cell_type": "markdown",
   "metadata": {},
   "source": [
    "#### 集合类型的4种基本操作，交集（&）、并集（|）、差集（-）、补集（^），操作逻辑与数学定义相同"
   ]
  },
  {
   "cell_type": "markdown",
   "metadata": {},
   "source": [
    "![Mcpicture](./images/jihe.png)"
   ]
  },
  {
   "cell_type": "code",
   "execution_count": null,
   "metadata": {},
   "outputs": [],
   "source": [
    "A = {425, \"BIT\", (10, \"CS\"), 424, 125, \"This is A\"}\n",
    "\n",
    "B = {425, \"BIT\", (10, \"CS\"), 424, 425, \"BIT\",\"This is B\"}\n",
    "\n",
    "A | B\n",
    "\n",
    "A - B\n",
    "\n",
    "A & B\n",
    "\n",
    "A ^ B"
   ]
  },
  {
   "cell_type": "code",
   "execution_count": null,
   "metadata": {},
   "outputs": [],
   "source": [
    "s = [123,(45,\"Hello world\"),\"set\"]\n",
    "\n",
    "t = [123,(45,\"Hello world\"),\"set\",\"haha\"]\n",
    "\n",
    "s <= t\n",
    "\n",
    "s >= t"
   ]
  },
  {
   "cell_type": "markdown",
   "metadata": {},
   "source": [
    "### 5. 映射"
   ]
  },
  {
   "cell_type": "markdown",
   "metadata": {},
   "source": [
    "#### 映射类型是“键-值”数据项的组合，每个元素是一个键值对，表示为(key, value)"
   ]
  },
  {
   "cell_type": "markdown",
   "metadata": {},
   "source": [
    "#### 字典是集合类型的延续，各个元素并没有顺序之分"
   ]
  },
  {
   "cell_type": "code",
   "execution_count": null,
   "metadata": {},
   "outputs": [],
   "source": [
    "Dcountry={\"中国\":\"北京\", \"美国\":\"华盛顿\", \"法国\":\"巴黎\"}\n",
    "print(Dcountry)\n",
    "\n",
    "#访问\n",
    "Dcountry[\"中国\"]\n",
    "\n",
    "#修改\n",
    "Dcountry[\"中国\"]='大北京'\n",
    "print(Dcountry)"
   ]
  },
  {
   "cell_type": "code",
   "execution_count": null,
   "metadata": {},
   "outputs": [],
   "source": [
    "#增加新元素\n",
    "Dcountry={\"中国\":\"北京\", \"美国\":\"华盛顿\", \"法国\":\"巴黎\"}\n",
    "Dcountry[\"英国\"]=\"伦敦\"\n",
    "print(Dcountry)"
   ]
  },
  {
   "cell_type": "code",
   "execution_count": null,
   "metadata": {},
   "outputs": [],
   "source": [
    "for key in Dcountry:\n",
    "    print(key)"
   ]
  },
  {
   "cell_type": "markdown",
   "metadata": {},
   "source": [
    "## 02 程序的控制结构"
   ]
  },
  {
   "cell_type": "markdown",
   "metadata": {},
   "source": [
    "### 思维导图"
   ]
  },
  {
   "cell_type": "markdown",
   "metadata": {},
   "source": [
    "![Mcpicture](./images/control.png)"
   ]
  },
  {
   "cell_type": "markdown",
   "metadata": {},
   "source": [
    "### 分支结构"
   ]
  },
  {
   "cell_type": "code",
   "execution_count": null,
   "metadata": {},
   "outputs": [],
   "source": [
    "#求两个数的最大值\n",
    "x=int(input(\"请输入x:\"))\n",
    "y=int(input(\"请输入y:\"))\n",
    "\n",
    "if x>y:\n",
    "    print(x)\n",
    "else:\n",
    "    print(y)"
   ]
  },
  {
   "cell_type": "code",
   "execution_count": null,
   "metadata": {},
   "outputs": [],
   "source": [
    "#求两个数的最大值的简洁写法\n",
    "x=int(input(\"请输入x:\"))\n",
    "y=int(input(\"请输入y:\"))\n",
    "\n",
    "print(x if x>y else y)"
   ]
  },
  {
   "cell_type": "markdown",
   "metadata": {},
   "source": [
    "#### 身体质量指数BMI"
   ]
  },
  {
   "cell_type": "markdown",
   "metadata": {},
   "source": [
    "![Mcpicture](./images/BMI.png)"
   ]
  },
  {
   "cell_type": "code",
   "execution_count": null,
   "metadata": {},
   "outputs": [],
   "source": [
    "#多分支\n",
    "height, weight = eval(input(\"请输入身高(米)和体重(公斤)[逗号隔开]: \"))\n",
    "bmi = weight / pow(height, 2)\n",
    "print(\"BMI数值为：{:.2f}\".format(bmi))\n",
    "wto, dom = \"\", \"\"\n",
    "if bmi < 18.5:\n",
    "    wto, dom = \"偏瘦\", \"偏瘦\"\n",
    "elif 18.5 <= bmi < 24:\n",
    "    wto, dom = \"正常\", \"正常\"\n",
    "elif 24 <= bmi < 25:\n",
    "    wto, dom = \"正常\", \"偏胖\"\n",
    "elif 25 <= bmi < 28:\n",
    "    wto, dom = \"偏胖\", \"偏胖\"\n",
    "elif 28 <= bmi < 30:\n",
    "    wto, dom = \"偏胖\", \"肥胖\"\n",
    "else:\n",
    "    wto, dom = \"肥胖\", \"肥胖\"\n",
    "print(\"BMI指标为:国际'{0}', 国内'{1}'\".format(wto, dom))"
   ]
  },
  {
   "cell_type": "markdown",
   "metadata": {},
   "source": [
    "### 循环结构"
   ]
  },
  {
   "cell_type": "markdown",
   "metadata": {},
   "source": [
    "#### 遍历循环：for语句\n",
    "\n",
    "循环次数确定，循环次数采用遍历结构中元素的个数来体现"
   ]
  },
  {
   "cell_type": "code",
   "execution_count": null,
   "metadata": {},
   "outputs": [],
   "source": [
    "#判断一个数是否为素数\n",
    "integer = int(input(\"请输入一个整数:\"))\n",
    "flag = False\n",
    "for i in range(2,integer):\n",
    "    if integer % i == 0:\n",
    "        break\n",
    "else:     # if i==integer-1\n",
    "    flag = True\n",
    "\n",
    "print(\"问：整数{}是素数吗？\\n答：{}\".format(integer,flag))"
   ]
  },
  {
   "cell_type": "markdown",
   "metadata": {},
   "source": [
    "**continue** vs **break**"
   ]
  },
  {
   "cell_type": "code",
   "execution_count": 4,
   "metadata": {},
   "outputs": [
    {
     "name": "stdout",
     "output_type": "stream",
     "text": [
      "吴山"
     ]
    }
   ],
   "source": [
    "mcstr = '吴山青，越山青，两岸青山相送迎。'\n",
    "for i in mcstr:\n",
    "    if i == '青':\n",
    "        break       # 试试continue\n",
    "    print(i,end='')"
   ]
  },
  {
   "cell_type": "markdown",
   "metadata": {},
   "source": [
    "#### 无限循环：while语句\n",
    "\n",
    "循环次数不确定。无限循环一直保持循环操作，直到特定循环条件不被满足才结束"
   ]
  },
  {
   "cell_type": "code",
   "execution_count": null,
   "metadata": {
    "scrolled": true
   },
   "outputs": [],
   "source": [
    "#猜数字游戏\n",
    "guess = 0     #输入的数字  \n",
    "secret = 7    #预设的数字\n",
    "\n",
    "while guess!=secret:    #条件  也可用True/barek构造无限循环\n",
    "    guess = int(input(\"@数字区间0-9，请输入你猜的数字:\"))  \n",
    "    if guess == secret:  \n",
    "        print(\"你猜对了，真厉害！\")\n",
    "    else:\n",
    "        print(\"很遗憾，猜错了！\")\n",
    "print(\"游戏结束\") "
   ]
  },
  {
   "cell_type": "markdown",
   "metadata": {},
   "source": [
    "## 03 函数"
   ]
  },
  {
   "cell_type": "markdown",
   "metadata": {},
   "source": [
    "### 思维导图"
   ]
  },
  {
   "cell_type": "markdown",
   "metadata": {},
   "source": [
    "![Mcpicture](./images/Function.png)"
   ]
  },
  {
   "cell_type": "markdown",
   "metadata": {},
   "source": [
    "![](images/func.png)\n",
    "\n",
    "* def - 使用def关键字定义函数\n",
    "\n",
    "* function_name - 函数名，起名应有意义，见名知意\n",
    "\n",
    "* arg1 - 位置参数 ，这些参数在调用函数 (call function) 时位置要固定\n",
    "\n",
    "* arg2 = v - 默认参数 = 默认值，调用函数的时候，默认参数已经有值，可省略\n",
    "\n",
    "* *args - 可变参数，可以是从零个到任意个，自动组装成元组\n",
    "\n",
    "* ：- 冒号，在第一行最后要加个冒号，表示后面内容为函数体部分\n",
    "\n",
    "* \"\"\"docstring\"\"\" - 函数说明，用于介绍该函数，可省略，但写函数说明是一个好习惯，可使你写的代码可读性更好\n",
    "\n",
    "* statement - 函数体部分(函数内容)"
   ]
  },
  {
   "cell_type": "markdown",
   "metadata": {},
   "source": [
    "### 函数的参数传递\n"
   ]
  },
  {
   "cell_type": "markdown",
   "metadata": {},
   "source": [
    "#### 默认值"
   ]
  },
  {
   "cell_type": "code",
   "execution_count": 8,
   "metadata": {},
   "outputs": [
    {
     "name": "stdout",
     "output_type": "stream",
     "text": [
      "knock~knock~\n",
      "knock~knock~knock~knock~\n"
     ]
    }
   ],
   "source": [
    "def dup(str, times = 2):\n",
    "    print(str*times)\n",
    "\n",
    "dup(\"knock~\")\n",
    "dup(\"knock~\",4)"
   ]
  },
  {
   "cell_type": "markdown",
   "metadata": {},
   "source": [
    "#### 可选参数"
   ]
  },
  {
   "cell_type": "code",
   "execution_count": 5,
   "metadata": {},
   "outputs": [
    {
     "name": "stdout",
     "output_type": "stream",
     "text": [
      "(1, 2, 3, 4, 5, 6)\n",
      "(1, 2, 3, 4, 5, 6)\n"
     ]
    }
   ],
   "source": [
    "def func(x1,y1,z1,x2,y2,z2):\n",
    "    return (x1,y1,z1,x2,y2,z2)\n",
    "\n",
    "# 按位置给参数赋值\n",
    "result = func(1,2,3,4,5,6)\n",
    "print(result)\n",
    "\n",
    "# 按参数名给参数赋值\n",
    "result = func(x2=4, y2=5, z2=6, x1=1, y1=2, z1=3)\n",
    "print(result)"
   ]
  },
  {
   "cell_type": "markdown",
   "metadata": {},
   "source": [
    "#### 可变参数"
   ]
  },
  {
   "cell_type": "code",
   "execution_count": 6,
   "metadata": {},
   "outputs": [
    {
     "name": "stdout",
     "output_type": "stream",
     "text": [
      "<class 'tuple'>\n"
     ]
    },
    {
     "data": {
      "text/plain": [
       "15"
      ]
     },
     "execution_count": 6,
     "metadata": {},
     "output_type": "execute_result"
    }
   ],
   "source": [
    "def vfunc(a, *b):\n",
    "    print(type(b))\n",
    "    for n in b:\n",
    "        a += n\n",
    "    return a\n",
    "\n",
    "vfunc(1,2,3,4,5)"
   ]
  },
  {
   "cell_type": "markdown",
   "metadata": {},
   "source": [
    "**注意：**\n",
    "\n",
    "在 Python 中定义函数时，若定义了位置参数、默认参数、可变参数，参数定义的顺序必须是：\n",
    "\n",
    "**<font color='red'>位置参数、默认参数、可变参数</font>**\n",
    "\n",
    "否则，程序会报错。"
   ]
  },
  {
   "cell_type": "markdown",
   "metadata": {},
   "source": [
    "#### 函数的返回值"
   ]
  },
  {
   "cell_type": "code",
   "execution_count": null,
   "metadata": {},
   "outputs": [],
   "source": [
    "def func(a, b):\n",
    "    return a*b\n",
    "    \n",
    "s = func(\"knock~\", 2)\n",
    "print(s)"
   ]
  },
  {
   "cell_type": "code",
   "execution_count": 9,
   "metadata": {},
   "outputs": [
    {
     "name": "stdout",
     "output_type": "stream",
     "text": [
      "(2, 'knock~') <class 'tuple'>\n"
     ]
    }
   ],
   "source": [
    "def func(a, b):\n",
    "    return b,a\n",
    "s = func(\"knock~\", 2)\n",
    "print(s, type(s))"
   ]
  },
  {
   "cell_type": "markdown",
   "metadata": {},
   "source": [
    "#### lambda函数(匿名函数)\n",
    "\n",
    "![](images/lambdafunc.png)\n",
    "\n",
    "* lambda - 定义匿名函数的关键字\n",
    "\n",
    "* argument_list - 函数参数，可以是位置参数、默认参数、可变参数等，和正规函数里的参数类型一样\n",
    "\n",
    "* ：- 冒号，在函数参数和表达式中间要加个冒号\n",
    "\n",
    "* expression - 函数表达式，输入函数参数，输出一些值\n",
    "\n",
    "注意 lambda 函数没有所谓的函数名，所以也叫匿名函数。下面是一些 lambda 函数示例："
   ]
  },
  {
   "cell_type": "code",
   "execution_count": null,
   "metadata": {},
   "outputs": [],
   "source": [
    "# 输入 x 和 y，输出其积 x*y\n",
    "func = lambda x, y: x*y\n",
    "func(2, 3)"
   ]
  },
  {
   "cell_type": "markdown",
   "metadata": {},
   "source": [
    "和下面的正规函数等价："
   ]
  },
  {
   "cell_type": "code",
   "execution_count": null,
   "metadata": {},
   "outputs": [],
   "source": [
    "def func(x,y):\n",
    "    return x*y\n",
    "func(2,3)"
   ]
  },
  {
   "cell_type": "code",
   "execution_count": null,
   "metadata": {},
   "outputs": [],
   "source": [
    "# 输入任意个数的参数，输出其和\n",
    "func = lambda *args: sum(args)\n",
    "func( 1, 2, 3, 4, 5 )"
   ]
  },
  {
   "cell_type": "markdown",
   "metadata": {},
   "source": [
    "和下面的正规函数等价："
   ]
  },
  {
   "cell_type": "code",
   "execution_count": null,
   "metadata": {},
   "outputs": [],
   "source": [
    "def func(*args):\n",
    "    return sum(args)\n",
    "func( 1, 2, 3, 4, 5 )"
   ]
  },
  {
   "cell_type": "markdown",
   "metadata": {},
   "source": [
    "## 04 高级特性"
   ]
  },
  {
   "cell_type": "markdown",
   "metadata": {},
   "source": [
    "在Python中，**<font color='red'>代码不是越多越好，而是越少越好。代码不是越复杂越好，而是越简单越好</font>**。\n",
    "\n",
    "因此，Python中有许多高级特性，这里仅介绍**列表推导式**和**高阶函数**。"
   ]
  },
  {
   "cell_type": "markdown",
   "metadata": {},
   "source": [
    "### 推导式"
   ]
  },
  {
   "cell_type": "markdown",
   "metadata": {},
   "source": [
    "推导式comprehensions（又称生成式、解析式），是Python的一种独有特性。推导式是可以从一个数据序列构建另一个新的数据序列的结构体。 共有三种推导，在Python2和3中都有支持：\n",
    "\n",
    "* 列表(list)推导式\n",
    "* 字典(dict)推导式\n",
    "* 集合(set)推导式\n",
    "\n",
    "这里仅介绍**列表推导式**"
   ]
  },
  {
   "cell_type": "markdown",
   "metadata": {},
   "source": [
    "**基本格式**\n",
    "\n",
    "variable = [out_exp_res for out_exp in input_list if out_exp == 2]\n",
    "\n",
    "  * out_exp_res:　　列表生成元素表达式，可以是有返回值的函数。\n",
    "  * for out_exp in input_list：　　迭代input_list将out_exp传入out_exp_res表达式中。\n",
    "  * if out_exp == 2：　　根据条件过滤哪些值可以。\n",
    "  \n",
    "**问题：**\n",
    "\n",
    "如何从一个含整数列表中把奇数 (odd number) 挑出来,再乘以2？"
   ]
  },
  {
   "cell_type": "code",
   "execution_count": null,
   "metadata": {},
   "outputs": [],
   "source": [
    "lst = [1, 2, 3, 4, 5] \n",
    "odds = []\n",
    "for n in lst:\n",
    "    if n % 2 == 1:\n",
    "        odds.append(n * 2)\n",
    "odds"
   ]
  },
  {
   "cell_type": "markdown",
   "metadata": {},
   "source": [
    "任务完成了，但不够简洁，看看下面这一行代码："
   ]
  },
  {
   "cell_type": "code",
   "execution_count": null,
   "metadata": {},
   "outputs": [],
   "source": [
    "odds = [n * 2 for n in lst if n % 2 == 1]\n",
    "odds"
   ]
  },
  {
   "cell_type": "markdown",
   "metadata": {},
   "source": [
    "乍一看从「for 循环」到「解析式」不直观，我来用不同颜色把这个过程可视化一下，如下图：\n",
    "\n",
    "![](images/lscom.jpg)"
   ]
  },
  {
   "cell_type": "markdown",
   "metadata": {},
   "source": [
    "### 高阶函数\n",
    "\n",
    "高阶函数 (high-order function) 在函数化编程 (functional programming) 很常见，主要有两种形式：\n",
    "\n",
    "1. 参数是函数 (map, filter, reduce)\n",
    "\n",
    "2. 返回值是函数 (closure, partial, currying)\n",
    "\n",
    "这里只介绍第一种，仅以map函数为例。\n",
    "\n",
    "\n",
    "#### Map\n",
    "\n",
    "Python 里面的 map, filter 和 reduce 属于第一种高阶函数，参数是函数。这时候是不是很自然的就想起了 lambda 函数？\n",
    "\n",
    "**<font color='red'>作为内嵌在别的函数里的参数，lambda 函数就像微信小程序一样，即用即丢，非常轻便。</font>**\n",
    "\n",
    "首先看看 map 的语法：\n",
    "\n",
    "**map(函数 f, 序列 x)：**\n",
    "\n",
    "* 对序列 x 中每个元素依次执行函数 f，将 f(x) 组成一个「map 对象」返回 (可以将其转换成 list 或 set)\n",
    "\n",
    "map() 函数接收两个参数，一个是函数，一个是 Iterable (可迭代对象，如列表、元组、字典、字符串等可以用for遍历的数据结构)，map 将传入的函数依次作用到序列的每个元素，并把结果作为新的Iterator(可以将其转换成 list 或 set)返回。\n",
    "\n",
    "看个具体的平方示例，用 map 函数对列表每个元素平方。\n",
    "\n",
    "![](images/map.png)"
   ]
  },
  {
   "cell_type": "code",
   "execution_count": 7,
   "metadata": {},
   "outputs": [
    {
     "name": "stdout",
     "output_type": "stream",
     "text": [
      "<map object at 0x0367DC70>\n",
      "[1, 4, 9, 16, 25, 36, 49, 64, 81]\n"
     ]
    }
   ],
   "source": [
    "lst = [1, 2, 3, 4, 5, 6, 7, 8, 9]\n",
    "map_iter = map( lambda x: x**2, lst )\n",
    "print( map_iter )\n",
    "print( list(map_iter) )"
   ]
  },
  {
   "cell_type": "markdown",
   "metadata": {},
   "source": [
    "## 05 总结\n",
    "\n",
    "![Mcpicture](./images/overview.png)"
   ]
  }
 ],
 "metadata": {
  "kernelspec": {
   "display_name": "Python 3",
   "language": "python",
   "name": "python3"
  },
  "language_info": {
   "codemirror_mode": {
    "name": "ipython",
    "version": 3
   },
   "file_extension": ".py",
   "mimetype": "text/x-python",
   "name": "python",
   "nbconvert_exporter": "python",
   "pygments_lexer": "ipython3",
   "version": "3.6.5"
  }
 },
 "nbformat": 4,
 "nbformat_minor": 2
}
