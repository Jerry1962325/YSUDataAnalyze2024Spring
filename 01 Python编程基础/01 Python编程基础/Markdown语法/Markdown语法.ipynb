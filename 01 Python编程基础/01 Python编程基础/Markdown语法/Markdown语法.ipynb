{
 "cells": [
  {
   "cell_type": "markdown",
   "metadata": {},
   "source": [
    "## Markdown语法\n",
    "\n",
    "![Markdown](images/markdown.png)\n",
    "\n",
    "1. [Markdown是什么？](#1.Markdown是什么？)\n",
    "\n",
    "2. [谁创造了它？](#2.谁创造了它？)\n",
    "\n",
    "3. [为什么要使用它？](#3.为什么要使用它？)\n",
    "\n",
    "4. [怎么使用？](#4.怎么使用？)\n",
    "\n",
    "5. [谁在用？](#5.谁在用？)\n",
    "\n",
    "6. [尝试一下](#6.尝试一下)"
   ]
  },
  {
   "cell_type": "markdown",
   "metadata": {},
   "source": [
    "### 1.Markdown是什么？\n",
    "\n",
    "**Markdown**是一种轻量级**标记语言**，它以纯文本形式(*易读、易写、易更改*)编写文档，并最终以HTML格式发布。    \n",
    "\n",
    "**Markdown**也可以理解为将以MARKDOWN语法编写的语言转换成HTML内容的工具。    \n",
    "\n",
    "### 2.谁创造了它？\n",
    "\n",
    "它由[**Aaron Swartz**](http://www.aaronsw.com/)和**John Gruber**共同设计。    \n",
    "\n",
    "### 3.为什么要使用它？\n",
    "\n",
    "+ 它是易读（看起来舒服）、易写（语法简单）、易更改**纯文本**。处处体现着**极简主义**的影子。\n",
    "+ 兼容HTML，可以转换为HTML格式发布。\n",
    "+ 跨平台使用。\n",
    "+ 越来越多的网站支持Markdown。\n",
    "+ 更方便清晰地组织你的电子邮件。（Markdown-here, Airmail）\n",
    "+ 摆脱Word（我不是认真的）。"
   ]
  },
  {
   "cell_type": "markdown",
   "metadata": {},
   "source": [
    "### 4.怎么使用？\n",
    "\n",
    "如果不算**扩展**，Markdown的语法绝对**简单**到让你爱不释手。\n",
    "\n",
    "Markdown语法主要分为如下几大部分：\n",
    "**标题**，**段落**，**区块引用**，**代码区块**，**强调**，**列表**，**分割线**，**链接**，**图片**。\n",
    "\n",
    "![Markdown思维导图](images/markdown-mindmap.png)"
   ]
  },
  {
   "cell_type": "markdown",
   "metadata": {},
   "source": [
    "#### 4.1 标题\n",
    "两种形式：\n",
    "1）使用`=`和`-`标记一级和二级标题。\n",
    "> 一级标题 \n",
    "> `=========`   \n",
    "> 二级标题 \n",
    "> `---------`\n",
    "\n",
    "效果：\n",
    "> 一级标题 \n",
    "> =========   \n",
    "> 二级标题\n",
    "> ---------  \n",
    "\n",
    "2）使用`#`，可表示1-6级标题。\n",
    "> \\# 一级标题   \n",
    "> \\## 二级标题   \n",
    "> \\### 三级标题   \n",
    "> \\#### 四级标题   \n",
    "> \\##### 五级标题   \n",
    "> \\###### 六级标题    \n",
    "\n",
    "效果：\n",
    "> # 一级标题   \n",
    "> ## 二级标题   \n",
    "> ### 三级标题   \n",
    "> #### 四级标题   \n",
    "> ##### 五级标题   \n",
    "> ###### 六级标题"
   ]
  },
  {
   "cell_type": "markdown",
   "metadata": {},
   "source": [
    "#### 4.2 段落\n",
    "段落的前后要有空行，所谓的空行是指没有文字内容。若想在段内强制换行的方式是使用**两个以上**空格加上回车（引用中换行省略回车）。\n",
    "\n",
    "> ## 没有空行\n",
    "\n",
    "> 我是第一行\n",
    "> 我是第二行\n",
    "\n",
    "> # 有空行\n",
    "\n",
    "> 我是第一行\n",
    "\n",
    "> 我是第二行\n",
    "\n",
    "> ## 段内换行\n",
    "\n",
    "> 我是第一行，段内换行需在结尾插入两个以上的空格  \n",
    "> 我是第二行"
   ]
  },
  {
   "cell_type": "markdown",
   "metadata": {},
   "source": [
    "#### 4.3 区块引用\n",
    "在段落的每行或者只在第一行使用符号`>`,还可使用多个嵌套引用，如：\n",
    "> \\> 区块引用  \n",
    "> \\>> 嵌套引用  \n",
    "\n",
    "效果：\n",
    "> 区块引用  \n",
    ">\n",
    "> > 嵌套引用"
   ]
  },
  {
   "cell_type": "markdown",
   "metadata": {},
   "source": [
    "#### 4.4 代码区块\n",
    "代码区块的建立是在每行加上4个空格或者一个制表符（如同写代码一样）。如\n",
    "\n",
    "**普通段落**\n",
    "\n",
    "void main()    \n",
    "{    \n",
    "    printf(\"Hello, Markdown.\");    \n",
    "}    \n",
    "\n",
    "**代码区块**\n",
    "\n",
    "    void main()\n",
    "    {\n",
    "        printf(\"Hello, Markdown.\");\n",
    "    }\n",
    "\n",
    "**或者**\n",
    "\n",
    "```Python\n",
    "import random\n",
    "for i in range(5):\n",
    "    print(random.randint())\n",
    "print(\"Hello, Markdown\")\n",
    "```\n",
    "\n",
    "**注意**:需要和普通段落之间存在空行。\n",
    "\n",
    "**单行代码(前四个空格)**\n",
    "\n",
    "    import turtle\n",
    "    \n",
    "**行内代码**\n",
    "\n",
    "举个例子，我是`print(\"Hello world\")`"
   ]
  },
  {
   "cell_type": "markdown",
   "metadata": {},
   "source": [
    "#### 4.5 强调\n",
    "在强调内容两侧分别加上`*`或者`_`，如：\n",
    "> \\*斜体\\*，\\_斜体\\_    \n",
    "> \\*\\*粗体\\*\\*，\\_\\_粗体\\_\\_\n",
    "\n",
    "效果：\n",
    "> *斜体*，_斜体_    \n",
    "> **粗体**，__粗体__"
   ]
  },
  {
   "cell_type": "markdown",
   "metadata": {},
   "source": [
    "#### 4.6 列表\n",
    "使用`·`、`+`、或`-`标记无序列表，如：\n",
    "> \\-（+\\*） 第一项\n",
    "> \\-（+\\*） 第二项\n",
    "> \\- （+\\*）第三项\n",
    "\n",
    "**注意**：标记后面最少有一个_空格_或_制表符_。若不在引用区块中，必须和前方段落之间存在空行。\n",
    "\n",
    "效果：\n",
    "> + 第一项\n",
    "> + 第二项\n",
    "> + 第三项\n",
    "\n",
    "有序列表的标记方式是将上述的符号换成数字,并辅以`.`，如：\n",
    "> 1 . 第一项   \n",
    "> 2 . 第二项    \n",
    "> 3 . 第三项    \n",
    "\n",
    "效果：\n",
    "> 1. 第一项\n",
    "> 2. 第二项\n",
    "> 3. 第三项"
   ]
  },
  {
   "cell_type": "markdown",
   "metadata": {},
   "source": [
    "#### 4.7 分割线\n",
    "分割线最常使用就是三个或以上`*`，还可以使用`-`和`_`。\n",
    "\n",
    "> ***"
   ]
  },
  {
   "cell_type": "markdown",
   "metadata": {},
   "source": [
    "#### 4.8 链接\n",
    "链接可以由两种形式生成：**行内式**和**参考式**。    \n",
    "**行内式**：\n",
    "> \\[younghz的Markdown库\\]\\(https:://github.com/younghz/Markdown \"Markdown\"\\)。\n",
    "\n",
    "效果：\n",
    "> [younghz的Markdown库](https:://github.com/younghz/Markdown \"Markdown\")。\n",
    "\n",
    "**参考式**：\n",
    "> \\[younghz的Markdown库1\\]\\[1\\]    \n",
    "> \\[younghz的Markdown库2\\]\\[2\\]    \n",
    "> \\[1\\]:https:://github.com/younghz/Markdown \"Markdown\"    \n",
    "> \\[2\\]:https:://github.com/younghz/Markdown \"Markdown\"    \n",
    "\n",
    "效果：\n",
    "> [younghz的Markdown库1][1]    \n",
    "> [younghz的Markdown库2][2]\n",
    "\n",
    "[1]: https:://github.com/younghz/Markdown \"Markdown\"\n",
    "[2]: https:://github.com/younghz/Markdown \"Markdown\"\n",
    "\n",
    "**注意**：上述的`[1]:https:://github.com/younghz/Markdown \"Markdown\"`不出现在区块中。"
   ]
  },
  {
   "cell_type": "markdown",
   "metadata": {},
   "source": [
    "#### 4.9 图片\n",
    "添加图片的形式和链接相似，只需在链接的基础上前方加一个`！`。\n",
    "\n",
    "![图片alt]（图片地址 “图片title”）\n",
    "\n",
    "![Markdown](images/markdown.png)"
   ]
  },
  {
   "cell_type": "markdown",
   "metadata": {},
   "source": [
    "#### 4.10 Html 标签\n",
    "\n",
    "<table>\n",
    "    <tr>\n",
    "        <th rowspan=\"2\">值班人员</th>\n",
    "        <th>星期一</th>\n",
    "        <th>星期二</th>\n",
    "        <th>星期三</th>\n",
    "    </tr>\n",
    "    <tr>\n",
    "        <td>李强</td>\n",
    "        <td>张明</td>\n",
    "        <td>王平</td>\n",
    "    </tr>\n",
    "</table>"
   ]
  },
  {
   "cell_type": "markdown",
   "metadata": {},
   "source": [
    "#### 4.11 任务列表\n",
    "\n",
    "- [] 未勾选\n",
    "- [x] 已勾选"
   ]
  },
  {
   "cell_type": "markdown",
   "metadata": {},
   "source": [
    "#### 4.12 删除线\n",
    "\n",
    "~~删除线~~\n",
    "\n",
    "<!--\n",
    "\n",
    "这是注释\n",
    "\n",
    "#### 4.14 其他\n",
    "\n",
    "==标记文本==\n",
    "\n",
    "H~2~O is是液体。\n",
    "\n",
    "2^10^ 运算结果是 1024.\n",
    "\n",
    "-->"
   ]
  },
  {
   "cell_type": "markdown",
   "metadata": {},
   "source": [
    "#### 4.13 表格\n",
    "\n",
    "用`|`表示表格纵向边界，表头和表内容用`-`隔开，并可用`:`进行对齐设置，两边都有`:`则表示居中，若不加`:`则默认左对齐。\n",
    "\n",
    "**示例表格1**\n",
    "\n",
    "|代码库|链接|\n",
    "|:------------------------------------:|------------------------------------|\n",
    "|MarkDown|[https://github.com/younghz/Markdown](https://github.com/younghz/Markdown \"Markdown\")|\n",
    "|MarkDownCopy|[https://github.com/younghz/Markdown](https://github.com/younghz/Markdown \"Markdown\")|\n",
    "\n",
    "**示例表格2**\n",
    "\n",
    "| Item      |    Value | Qty  |\n",
    "| :-------- | --------:| :--: |\n",
    "| Computer  | 1600 USD |  5   |\n",
    "| Phone     |   12 USD |  12  |\n",
    "| Pipe      |    1 USD | 234  |"
   ]
  },
  {
   "cell_type": "markdown",
   "metadata": {},
   "source": [
    "### 5.谁在用？\n",
    "\n",
    "Markdown的使用者：\n",
    "+ GitHub\n",
    "+ 简书\n",
    "+ Stack Overflow\n",
    "+ Apollo\n",
    "+ Moodle\n",
    "+ Reddit\n",
    "+ 等等"
   ]
  },
  {
   "cell_type": "markdown",
   "metadata": {},
   "source": [
    "### 6.尝试一下\n",
    "\n",
    "+ **Chrome**下的插件诸如`stackedit`与`markdown-here`等非常方便，也不用担心平台受限。\n",
    "+ **在线**的dillinger.io评价也不错   \n",
    "+ **Windowns**下的MarkdownPad也用过，不过免费版的体验不是很好。    \n",
    "+ **Mac**下的Mou是国人贡献的，口碑很好。\n",
    "+ **Linux**下的ReText不错。    \n",
    "\n",
    "**当然，最终境界永远都是笔下是语法，心中格式化 :)。**\n",
    "\n",
    "****\n",
    "**注意**：不同的Markdown解释器或工具对相应语法（扩展语法）的解释效果不尽相同，具体可参见工具的使用说明。\n",
    "虽然有人想出面搞一个所谓的标准化的Markdown，[没想到还惹怒了健在的创始人John Gruber]\n",
    "(http://blog.codinghorror.com/standard-markdown-is-now-common-markdown/ )。\n",
    "****\n",
    "以上基本是所有traditonal markdown的语法。\n",
    "\n",
    "关于其它扩展语法可参见具体工具的使用说明。"
   ]
  }
 ],
 "metadata": {
  "kernelspec": {
   "display_name": "Python 3",
   "language": "python",
   "name": "python3"
  },
  "language_info": {
   "codemirror_mode": {
    "name": "ipython",
    "version": 3
   },
   "file_extension": ".py",
   "mimetype": "text/x-python",
   "name": "python",
   "nbconvert_exporter": "python",
   "pygments_lexer": "ipython3",
   "version": "3.7.6"
  }
 },
 "nbformat": 4,
 "nbformat_minor": 4
}
