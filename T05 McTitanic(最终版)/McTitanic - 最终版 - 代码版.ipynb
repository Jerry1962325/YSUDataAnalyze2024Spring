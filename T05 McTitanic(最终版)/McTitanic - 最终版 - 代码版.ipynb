{
 "cells": [
  {
   "cell_type": "markdown",
   "metadata": {},
   "source": [
    "# 课程项目：Kaggle-Titanic 泰坦尼克号获救问题\n",
    "\n",
    "> by 马川 燕山大学\n",
    "\n",
    "![](images/Titanic.jpg)\n",
    "\n",
    "> 问题设置参考自网络，结合本课程进行了修改和扩充，以期为学生提供一个完整的项目案例。藉练手，贯所学，一窥数据分析之面貌。\n",
    "\n",
    ">**代码胜于雄辩(Talk is cheap.Show me the code)** \n",
    "\n",
    ">               ---- 林纳斯·托瓦兹(Linus Torvalds)\n",
    "\n",
    "> 参考链接：[**Kaggle-Titanic项目:**  https://www.kaggle.com/c/titanic](https://www.kaggle.com/c/titanic)\n",
    "\n",
    "> 参考链接：https://blog.csdn.net/zongzi009/article/details/82391034\n",
    "\n",
    "> 参考链接：https://github.com/massquantity/Kaggle-Titanic\n",
    "\n",
    "> 参考链接：https://tianchi.aliyun.com/notebook-ai/detail?spm=5176.12282042.0.0.1dce2042NBc6J6&postId=6772 "
   ]
  },
  {
   "cell_type": "markdown",
   "metadata": {},
   "source": [
    "本项目数据来源于[kaggle上的Titanic数据集](https://www.kaggle.com/c/titanic/data)，共计1309条数据，其中训练集891条，测试集418条。对泰坦尼克号乘客数据进行分析，**挖掘获救乘客和遇难乘客的数据特点以及与其他因素的相关性，寻找影响乘客生存与否的因素。**\n",
    "\n",
    "**PS**:Kaggle项目还会要求根据训练集构建模型并对测试集中的数据进行预测，但本课程不涉及预测问题。\n",
    "\n",
    "## 1. 问题及思路\n",
    "\n",
    "### 提出问题\n",
    "\n",
    "**1. 整体来看，存活比例如何？**\n",
    "\n",
    "> 要求：\n",
    ">    ① 将train.csv，test.csv和gender_submission.csv合并为titanic.csv\n",
    ">    ② 查看已知存活数据中，存活比例如何？\n",
    "\n",
    "**2. 结合性别和年龄数据，分析幸存下来的人是哪些人？**\n",
    "\n",
    "> 要求：\n",
    ">    ① 年龄数据的分布情况\n",
    ">    ② 男性和女性存活情况\n",
    ">    ③ 老人和小孩存活情况\n",
    "\n",
    "**3. 结合 SibSp、Parch字段，研究亲人多少与存活的关系**\n",
    "\n",
    "> 要求：\n",
    ">    ① 有无兄弟姐妹/父母子女和存活与否的关系\n",
    ">    ② 亲戚多少与存活与否的关系\n",
    "\n",
    "**4. 结合票的费用情况，研究票价和存活与否的关系**\n",
    "\n",
    "> 要求：\n",
    ">    ① 票价分布和存活与否的关系\n",
    ">    ② 比较研究生还者和未生还者的票价情况\n",
    "\n",
    "**5. 称呼与存活与否的关系**\n",
    "\n",
    "> 要求：\n",
    ">    ① 观察不同称呼与生存率的关系\n",
    "\n",
    "\n",
    "### 实现思路\n",
    "\n",
    "1. 计算整体的存活率，深入分析男性和女性的不同年龄段的存活人数和占比，分析性别、年龄和存活率之间的联系；观察不同等级舱和年龄存活率，分析等级舱、年龄和存活率的关系；分析不同年龄存活率的分布来查看老人和儿童存活率。\n",
    "\n",
    "2. 使用饼图来直观展示有父母/亲戚和没有父母/亲戚乘客的存活率有何差异。若有明显差异，可以深入分析亲人的数量对存活率是否有联系。\n",
    "\n",
    "3. 分析所有乘客的票价分布情况，及不同等级舱的票价分布情况，通过观察幸存者和遇难者的票价的平均值或标准差来分析票价与存活率的联系；通过观察不同称呼与生存率的关系，分析社会地位对生存率的影响。\n",
    "\n",
    "## 2. 理解数据\n",
    "\n",
    "从Kaggle平台上下载3个原始数据集：train.csv，test.csv，gender_submission.csv。\n",
    "\n",
    "其中：\n",
    "1. train.csv 为编号为 1-891 共 891 名乘客的信息，作为训练数据；\n",
    "2. test.csv 为编号 892-1309 共 418 名乘客的信息，作为测试数据(删掉了是否生还列 Survived)；\n",
    "3. gender_submission.csv 为 Kaggle 项目需要提交的结果格式以及正确答案(乘客的实际生还情况)。 \n",
    "\n",
    "### 导入相关包"
   ]
  },
  {
   "cell_type": "code",
   "execution_count": 1,
   "metadata": {},
   "outputs": [],
   "source": [
    "#导入需要的包\n",
    "import numpy as np\n",
    "import pandas as pd\n",
    "import matplotlib.pyplot as plt\n",
    "%matplotlib inline"
   ]
  },
  {
   "cell_type": "markdown",
   "metadata": {},
   "source": [
    "### 读取数据\n",
    "\n",
    "数据在data文件夹里"
   ]
  },
  {
   "cell_type": "code",
   "execution_count": 2,
   "metadata": {},
   "outputs": [],
   "source": [
    "#读取数据\n",
    "train = pd.read_csv('data/train.csv')\n",
    "test = pd.read_csv('data/test.csv')\n",
    "gender_submission = pd.read_csv('data/gender_submission.csv')"
   ]
  },
  {
   "cell_type": "markdown",
   "metadata": {},
   "source": [
    "train存放的是训练数据，test存放的是测试数据，gender_submission 存放的是 test 中418名乘客的实际生还情况。\n",
    "\n",
    "**相关字段含义介绍：**\n",
    "\n",
    "* PassengerId : 乘客ID\n",
    "\n",
    "* Survived： 是否生还\n",
    "\n",
    "* Pclass : 乘客等级(1/2/3等舱位)\n",
    "\n",
    "* Name : 乘客姓名\n",
    "\n",
    "* Sex : 性别\n",
    "\n",
    "* Age : 年龄\n",
    "\n",
    "* SibSp : 堂兄弟/妹个数\n",
    "\n",
    "* Parch : 父母与小孩个数\n",
    "\n",
    "* Ticket : 船票信息\n",
    "\n",
    "* Fare : 票价\n",
    "\n",
    "* Cabin : 客舱\n",
    "\n",
    "* Embarked : 登船港口"
   ]
  },
  {
   "cell_type": "markdown",
   "metadata": {},
   "source": [
    "## 3. 数据清洗\n",
    "\n",
    "数据清洗主要包括：**选取子集，缺失数据处理、数据格式转换、异常值数据处理**等。\n",
    "\n",
    "### 基本数据处理\n",
    "\n",
    "为了获得更完整的数据，先将 test 与 gender_submission **合并**，再将合并后的数据与 train 中的数据**连接**在一起，以得到 1309 条完整数据："
   ]
  },
  {
   "cell_type": "markdown",
   "metadata": {},
   "source": [
    "**合并**\n",
    "\n",
    "以 PassengerId 为键值，left合并方式合并"
   ]
  },
  {
   "cell_type": "code",
   "execution_count": 3,
   "metadata": {},
   "outputs": [
    {
     "data": {
      "text/html": [
       "<div>\n",
       "<style scoped>\n",
       "    .dataframe tbody tr th:only-of-type {\n",
       "        vertical-align: middle;\n",
       "    }\n",
       "\n",
       "    .dataframe tbody tr th {\n",
       "        vertical-align: top;\n",
       "    }\n",
       "\n",
       "    .dataframe thead th {\n",
       "        text-align: right;\n",
       "    }\n",
       "</style>\n",
       "<table border=\"1\" class=\"dataframe\">\n",
       "  <thead>\n",
       "    <tr style=\"text-align: right;\">\n",
       "      <th></th>\n",
       "      <th>PassengerId</th>\n",
       "      <th>Pclass</th>\n",
       "      <th>Name</th>\n",
       "      <th>Sex</th>\n",
       "      <th>Age</th>\n",
       "      <th>SibSp</th>\n",
       "      <th>Parch</th>\n",
       "      <th>Ticket</th>\n",
       "      <th>Fare</th>\n",
       "      <th>Cabin</th>\n",
       "      <th>Embarked</th>\n",
       "      <th>Survived</th>\n",
       "    </tr>\n",
       "  </thead>\n",
       "  <tbody>\n",
       "    <tr>\n",
       "      <th>0</th>\n",
       "      <td>892</td>\n",
       "      <td>3</td>\n",
       "      <td>Kelly, Mr. James</td>\n",
       "      <td>male</td>\n",
       "      <td>34.5</td>\n",
       "      <td>0</td>\n",
       "      <td>0</td>\n",
       "      <td>330911</td>\n",
       "      <td>7.8292</td>\n",
       "      <td>NaN</td>\n",
       "      <td>Q</td>\n",
       "      <td>0</td>\n",
       "    </tr>\n",
       "    <tr>\n",
       "      <th>1</th>\n",
       "      <td>893</td>\n",
       "      <td>3</td>\n",
       "      <td>Wilkes, Mrs. James (Ellen Needs)</td>\n",
       "      <td>female</td>\n",
       "      <td>47.0</td>\n",
       "      <td>1</td>\n",
       "      <td>0</td>\n",
       "      <td>363272</td>\n",
       "      <td>7.0000</td>\n",
       "      <td>NaN</td>\n",
       "      <td>S</td>\n",
       "      <td>1</td>\n",
       "    </tr>\n",
       "    <tr>\n",
       "      <th>2</th>\n",
       "      <td>894</td>\n",
       "      <td>2</td>\n",
       "      <td>Myles, Mr. Thomas Francis</td>\n",
       "      <td>male</td>\n",
       "      <td>62.0</td>\n",
       "      <td>0</td>\n",
       "      <td>0</td>\n",
       "      <td>240276</td>\n",
       "      <td>9.6875</td>\n",
       "      <td>NaN</td>\n",
       "      <td>Q</td>\n",
       "      <td>0</td>\n",
       "    </tr>\n",
       "    <tr>\n",
       "      <th>3</th>\n",
       "      <td>895</td>\n",
       "      <td>3</td>\n",
       "      <td>Wirz, Mr. Albert</td>\n",
       "      <td>male</td>\n",
       "      <td>27.0</td>\n",
       "      <td>0</td>\n",
       "      <td>0</td>\n",
       "      <td>315154</td>\n",
       "      <td>8.6625</td>\n",
       "      <td>NaN</td>\n",
       "      <td>S</td>\n",
       "      <td>0</td>\n",
       "    </tr>\n",
       "    <tr>\n",
       "      <th>4</th>\n",
       "      <td>896</td>\n",
       "      <td>3</td>\n",
       "      <td>Hirvonen, Mrs. Alexander (Helga E Lindqvist)</td>\n",
       "      <td>female</td>\n",
       "      <td>22.0</td>\n",
       "      <td>1</td>\n",
       "      <td>1</td>\n",
       "      <td>3101298</td>\n",
       "      <td>12.2875</td>\n",
       "      <td>NaN</td>\n",
       "      <td>S</td>\n",
       "      <td>1</td>\n",
       "    </tr>\n",
       "  </tbody>\n",
       "</table>\n",
       "</div>"
      ],
      "text/plain": [
       "   PassengerId  Pclass                                          Name     Sex  \\\n",
       "0          892       3                              Kelly, Mr. James    male   \n",
       "1          893       3              Wilkes, Mrs. James (Ellen Needs)  female   \n",
       "2          894       2                     Myles, Mr. Thomas Francis    male   \n",
       "3          895       3                              Wirz, Mr. Albert    male   \n",
       "4          896       3  Hirvonen, Mrs. Alexander (Helga E Lindqvist)  female   \n",
       "\n",
       "    Age  SibSp  Parch   Ticket     Fare Cabin Embarked  Survived  \n",
       "0  34.5      0      0   330911   7.8292   NaN        Q         0  \n",
       "1  47.0      1      0   363272   7.0000   NaN        S         1  \n",
       "2  62.0      0      0   240276   9.6875   NaN        Q         0  \n",
       "3  27.0      0      0   315154   8.6625   NaN        S         0  \n",
       "4  22.0      1      1  3101298  12.2875   NaN        S         1  "
      ]
     },
     "execution_count": 3,
     "metadata": {},
     "output_type": "execute_result"
    }
   ],
   "source": [
    "full_test = pd.merge(test,gender_submission,on='PassengerId',how='left')  #合并数据\n",
    "full_test.head()"
   ]
  },
  {
   "cell_type": "markdown",
   "metadata": {},
   "source": [
    "**连接**\n",
    "\n",
    "连接后的完整数据赋值为 **titanic**"
   ]
  },
  {
   "cell_type": "code",
   "execution_count": 4,
   "metadata": {},
   "outputs": [
    {
     "data": {
      "text/html": [
       "<div>\n",
       "<style scoped>\n",
       "    .dataframe tbody tr th:only-of-type {\n",
       "        vertical-align: middle;\n",
       "    }\n",
       "\n",
       "    .dataframe tbody tr th {\n",
       "        vertical-align: top;\n",
       "    }\n",
       "\n",
       "    .dataframe thead th {\n",
       "        text-align: right;\n",
       "    }\n",
       "</style>\n",
       "<table border=\"1\" class=\"dataframe\">\n",
       "  <thead>\n",
       "    <tr style=\"text-align: right;\">\n",
       "      <th></th>\n",
       "      <th>PassengerId</th>\n",
       "      <th>Survived</th>\n",
       "      <th>Pclass</th>\n",
       "      <th>Name</th>\n",
       "      <th>Sex</th>\n",
       "      <th>Age</th>\n",
       "      <th>SibSp</th>\n",
       "      <th>Parch</th>\n",
       "      <th>Ticket</th>\n",
       "      <th>Fare</th>\n",
       "      <th>Cabin</th>\n",
       "      <th>Embarked</th>\n",
       "    </tr>\n",
       "  </thead>\n",
       "  <tbody>\n",
       "    <tr>\n",
       "      <th>0</th>\n",
       "      <td>1</td>\n",
       "      <td>0</td>\n",
       "      <td>3</td>\n",
       "      <td>Braund, Mr. Owen Harris</td>\n",
       "      <td>male</td>\n",
       "      <td>22.0</td>\n",
       "      <td>1</td>\n",
       "      <td>0</td>\n",
       "      <td>A/5 21171</td>\n",
       "      <td>7.2500</td>\n",
       "      <td>NaN</td>\n",
       "      <td>S</td>\n",
       "    </tr>\n",
       "    <tr>\n",
       "      <th>1</th>\n",
       "      <td>2</td>\n",
       "      <td>1</td>\n",
       "      <td>1</td>\n",
       "      <td>Cumings, Mrs. John Bradley (Florence Briggs Th...</td>\n",
       "      <td>female</td>\n",
       "      <td>38.0</td>\n",
       "      <td>1</td>\n",
       "      <td>0</td>\n",
       "      <td>PC 17599</td>\n",
       "      <td>71.2833</td>\n",
       "      <td>C85</td>\n",
       "      <td>C</td>\n",
       "    </tr>\n",
       "    <tr>\n",
       "      <th>2</th>\n",
       "      <td>3</td>\n",
       "      <td>1</td>\n",
       "      <td>3</td>\n",
       "      <td>Heikkinen, Miss. Laina</td>\n",
       "      <td>female</td>\n",
       "      <td>26.0</td>\n",
       "      <td>0</td>\n",
       "      <td>0</td>\n",
       "      <td>STON/O2. 3101282</td>\n",
       "      <td>7.9250</td>\n",
       "      <td>NaN</td>\n",
       "      <td>S</td>\n",
       "    </tr>\n",
       "    <tr>\n",
       "      <th>3</th>\n",
       "      <td>4</td>\n",
       "      <td>1</td>\n",
       "      <td>1</td>\n",
       "      <td>Futrelle, Mrs. Jacques Heath (Lily May Peel)</td>\n",
       "      <td>female</td>\n",
       "      <td>35.0</td>\n",
       "      <td>1</td>\n",
       "      <td>0</td>\n",
       "      <td>113803</td>\n",
       "      <td>53.1000</td>\n",
       "      <td>C123</td>\n",
       "      <td>S</td>\n",
       "    </tr>\n",
       "    <tr>\n",
       "      <th>4</th>\n",
       "      <td>5</td>\n",
       "      <td>0</td>\n",
       "      <td>3</td>\n",
       "      <td>Allen, Mr. William Henry</td>\n",
       "      <td>male</td>\n",
       "      <td>35.0</td>\n",
       "      <td>0</td>\n",
       "      <td>0</td>\n",
       "      <td>373450</td>\n",
       "      <td>8.0500</td>\n",
       "      <td>NaN</td>\n",
       "      <td>S</td>\n",
       "    </tr>\n",
       "  </tbody>\n",
       "</table>\n",
       "</div>"
      ],
      "text/plain": [
       "   PassengerId  Survived  Pclass  \\\n",
       "0            1         0       3   \n",
       "1            2         1       1   \n",
       "2            3         1       3   \n",
       "3            4         1       1   \n",
       "4            5         0       3   \n",
       "\n",
       "                                                Name     Sex   Age  SibSp  \\\n",
       "0                            Braund, Mr. Owen Harris    male  22.0      1   \n",
       "1  Cumings, Mrs. John Bradley (Florence Briggs Th...  female  38.0      1   \n",
       "2                             Heikkinen, Miss. Laina  female  26.0      0   \n",
       "3       Futrelle, Mrs. Jacques Heath (Lily May Peel)  female  35.0      1   \n",
       "4                           Allen, Mr. William Henry    male  35.0      0   \n",
       "\n",
       "   Parch            Ticket     Fare Cabin Embarked  \n",
       "0      0         A/5 21171   7.2500   NaN        S  \n",
       "1      0          PC 17599  71.2833   C85        C  \n",
       "2      0  STON/O2. 3101282   7.9250   NaN        S  \n",
       "3      0            113803  53.1000  C123        S  \n",
       "4      0            373450   8.0500   NaN        S  "
      ]
     },
     "execution_count": 4,
     "metadata": {},
     "output_type": "execute_result"
    }
   ],
   "source": [
    "titanic = pd.concat([train,full_test],ignore_index=True)\n",
    "titanic.head()"
   ]
  },
  {
   "cell_type": "markdown",
   "metadata": {},
   "source": [
    "**查看缺失值**"
   ]
  },
  {
   "cell_type": "code",
   "execution_count": null,
   "metadata": {},
   "outputs": [],
   "source": [
    "titanic.info()"
   ]
  },
  {
   "cell_type": "code",
   "execution_count": null,
   "metadata": {},
   "outputs": [],
   "source": [
    "titanic.isnull().sum()"
   ]
  },
  {
   "cell_type": "markdown",
   "metadata": {},
   "source": [
    "“Age”、“Cabin”、“Embarked”、“Fare”列有缺失值。"
   ]
  },
  {
   "cell_type": "markdown",
   "metadata": {},
   "source": [
    "### 缺失值处理的方法\n",
    "\n",
    "对数据进行分析的时候要注意其中是否有缺失值。对于缺失值，一般有以下几种处理方法:\n",
    "\n",
    "1. 如果数据集很多，但有很少的缺失值，可以删掉带缺失值的行。\n",
    "\n",
    "2. 如果该属性相对学习来说不是很重要，可以对缺失值赋均值或者众数。\n",
    "\n",
    "3. 对于标称属性，可以赋一个代表缺失的值，比如‘U0’。因为缺失本身也可能代表着一些隐含信息。比如船舱号Cabin这一属性，缺失可能代表并没有船舱。\n",
    "\n",
    "比如在哪儿上船Embarked这一属性（共有三个上船地点），缺失两个值，可以用众数赋值。\n",
    "\n",
    "PS: 众数(Mode)是指一组数据中出现次数最多的那个数据\n",
    "\n",
    "#### 填充缺失值"
   ]
  },
  {
   "cell_type": "code",
   "execution_count": 5,
   "metadata": {},
   "outputs": [
    {
     "name": "stderr",
     "output_type": "stream",
     "text": [
      "D:\\ProgramData\\Anaconda3\\lib\\site-packages\\ipykernel_launcher.py:2: SettingWithCopyWarning: \n",
      "A value is trying to be set on a copy of a slice from a DataFrame\n",
      "\n",
      "See the caveats in the documentation: https://pandas.pydata.org/pandas-docs/stable/user_guide/indexing.html#returning-a-view-versus-a-copy\n",
      "  \n"
     ]
    }
   ],
   "source": [
    "# 填充 Embarked 中的缺失值\n",
    "titanic.Embarked[titanic.Embarked.isnull()] = titanic.Embarked.dropna().mode().values\n",
    "\n",
    "# 填充 Fare 中的缺失值 (因为“Fare”主要与“Pclass”有关,所以我们用3等舱的中间票价来填充缺失的值)\n",
    "titanic.Fare.fillna(titanic[titanic.Pclass==3]['Fare'].median(),inplace=True)\n",
    "\n",
    "# 填充 Cabin 中的缺失值\n",
    "# 缺失可能代表并没有船舱，可能有船舱号的人和没有船舱号的人的存活率有差异。因此，将有船舱号的人和没有船舱号的人进行区分。\n",
    "titanic.loc[titanic.Cabin.notnull(),'Cabin'] = 1\n",
    "titanic.loc[titanic.Cabin.isnull(),'Cabin'] = 0\n",
    "\n",
    "# 填充 Age 中的缺失值\n",
    "# 通过分析可知年龄和称呼关系比较密切,因此，将相同称呼的乘客用中位数来填充年龄缺失值\n",
    "titanic['Title'] = titanic['Name'].apply(lambda x: x.split(',')[1].split('.')[0].strip())\n",
    "# 映射“称呼”\n",
    "nn = {  'Capt':'Rareman', \n",
    "        'Col':'Rareman',\n",
    "        'Don':'Rareman',\n",
    "        'Dona':'Rarewoman',\n",
    "        'Dr':'Rareman',\n",
    "        'Jonkheer':'Rareman',\n",
    "        'Lady':'Rarewoman',\n",
    "        'Major':'Rareman',\n",
    "        'Master':'Master',\n",
    "        'Miss':'Miss',\n",
    "        'Mlle':'Rarewoman',\n",
    "        'Mme':'Rarewoman',\n",
    "        'Mr':'Mr',\n",
    "        'Mrs':'Mrs',\n",
    "        'Ms':'Rarewoman',\n",
    "        'Rev':'Mr',\n",
    "        'Sir':'Rareman',\n",
    "        'the Countess':'Rarewoman' }\n",
    "titanic.Title = titanic.Title.map(nn)\n",
    "# 单独处理一下 797 号乘客\n",
    "titanic.loc[titanic.PassengerId == 797,'Title'] = 'Rarewoman'\n",
    "# 将年龄缺失值先统一赋值为 999\n",
    "titanic.Age.fillna(999,inplace=True)\n",
    "# 找出小女孩\n",
    "def girl(pax):\n",
    "    if (pax.Age != 999) & (pax.Title == 'Miss') & (pax.Age <= 14):\n",
    "        return 'Girl'\n",
    "    elif (pax.Age == 999) & (pax.Title == 'Miss') & (pax.Parch != 0):\n",
    "        return 'Girl'\n",
    "    else:\n",
    "        return pax.Title\n",
    "titanic['Title'] = titanic.apply(girl,axis=1)\n",
    "# 接下来，我们根据他们的“称呼”来填写缺失的“年龄”。\n",
    "Tit = ['Mr','Miss','Mrs','Master','Girl','Rareman','Rarewoman']\n",
    "for i in Tit:\n",
    "    titanic.loc[(titanic.Age == 999) & (titanic.Title == i),'Age'] = titanic.loc[titanic.Title == i,'Age'].median()"
   ]
  },
  {
   "cell_type": "markdown",
   "metadata": {},
   "source": [
    "**至此，缺失值已经全部填充完成。**"
   ]
  },
  {
   "cell_type": "code",
   "execution_count": 6,
   "metadata": {},
   "outputs": [
    {
     "name": "stdout",
     "output_type": "stream",
     "text": [
      "<class 'pandas.core.frame.DataFrame'>\n",
      "RangeIndex: 1309 entries, 0 to 1308\n",
      "Data columns (total 13 columns):\n",
      " #   Column       Non-Null Count  Dtype  \n",
      "---  ------       --------------  -----  \n",
      " 0   PassengerId  1309 non-null   int64  \n",
      " 1   Survived     1309 non-null   int64  \n",
      " 2   Pclass       1309 non-null   int64  \n",
      " 3   Name         1309 non-null   object \n",
      " 4   Sex          1309 non-null   object \n",
      " 5   Age          1309 non-null   float64\n",
      " 6   SibSp        1309 non-null   int64  \n",
      " 7   Parch        1309 non-null   int64  \n",
      " 8   Ticket       1309 non-null   object \n",
      " 9   Fare         1309 non-null   float64\n",
      " 10  Cabin        1309 non-null   object \n",
      " 11  Embarked     1309 non-null   object \n",
      " 12  Title        1309 non-null   object \n",
      "dtypes: float64(2), int64(5), object(6)\n",
      "memory usage: 133.1+ KB\n"
     ]
    }
   ],
   "source": [
    "titanic.info()"
   ]
  },
  {
   "cell_type": "code",
   "execution_count": 7,
   "metadata": {},
   "outputs": [
    {
     "data": {
      "text/html": [
       "<div>\n",
       "<style scoped>\n",
       "    .dataframe tbody tr th:only-of-type {\n",
       "        vertical-align: middle;\n",
       "    }\n",
       "\n",
       "    .dataframe tbody tr th {\n",
       "        vertical-align: top;\n",
       "    }\n",
       "\n",
       "    .dataframe thead th {\n",
       "        text-align: right;\n",
       "    }\n",
       "</style>\n",
       "<table border=\"1\" class=\"dataframe\">\n",
       "  <thead>\n",
       "    <tr style=\"text-align: right;\">\n",
       "      <th></th>\n",
       "      <th>PassengerId</th>\n",
       "      <th>Survived</th>\n",
       "      <th>Pclass</th>\n",
       "      <th>Age</th>\n",
       "      <th>SibSp</th>\n",
       "      <th>Parch</th>\n",
       "      <th>Fare</th>\n",
       "    </tr>\n",
       "  </thead>\n",
       "  <tbody>\n",
       "    <tr>\n",
       "      <th>count</th>\n",
       "      <td>1309.000000</td>\n",
       "      <td>1309.000000</td>\n",
       "      <td>1309.000000</td>\n",
       "      <td>1309.000000</td>\n",
       "      <td>1309.000000</td>\n",
       "      <td>1309.000000</td>\n",
       "      <td>1309.000000</td>\n",
       "    </tr>\n",
       "    <tr>\n",
       "      <th>mean</th>\n",
       "      <td>655.000000</td>\n",
       "      <td>0.377387</td>\n",
       "      <td>2.294882</td>\n",
       "      <td>30.322131</td>\n",
       "      <td>0.498854</td>\n",
       "      <td>0.385027</td>\n",
       "      <td>33.276193</td>\n",
       "    </tr>\n",
       "    <tr>\n",
       "      <th>std</th>\n",
       "      <td>378.020061</td>\n",
       "      <td>0.484918</td>\n",
       "      <td>0.837836</td>\n",
       "      <td>13.365722</td>\n",
       "      <td>1.041658</td>\n",
       "      <td>0.865560</td>\n",
       "      <td>51.743584</td>\n",
       "    </tr>\n",
       "    <tr>\n",
       "      <th>min</th>\n",
       "      <td>1.000000</td>\n",
       "      <td>0.000000</td>\n",
       "      <td>1.000000</td>\n",
       "      <td>0.170000</td>\n",
       "      <td>0.000000</td>\n",
       "      <td>0.000000</td>\n",
       "      <td>0.000000</td>\n",
       "    </tr>\n",
       "    <tr>\n",
       "      <th>25%</th>\n",
       "      <td>328.000000</td>\n",
       "      <td>0.000000</td>\n",
       "      <td>2.000000</td>\n",
       "      <td>22.000000</td>\n",
       "      <td>0.000000</td>\n",
       "      <td>0.000000</td>\n",
       "      <td>7.895800</td>\n",
       "    </tr>\n",
       "    <tr>\n",
       "      <th>50%</th>\n",
       "      <td>655.000000</td>\n",
       "      <td>0.000000</td>\n",
       "      <td>3.000000</td>\n",
       "      <td>30.000000</td>\n",
       "      <td>0.000000</td>\n",
       "      <td>0.000000</td>\n",
       "      <td>14.454200</td>\n",
       "    </tr>\n",
       "    <tr>\n",
       "      <th>75%</th>\n",
       "      <td>982.000000</td>\n",
       "      <td>1.000000</td>\n",
       "      <td>3.000000</td>\n",
       "      <td>36.000000</td>\n",
       "      <td>1.000000</td>\n",
       "      <td>0.000000</td>\n",
       "      <td>31.275000</td>\n",
       "    </tr>\n",
       "    <tr>\n",
       "      <th>max</th>\n",
       "      <td>1309.000000</td>\n",
       "      <td>1.000000</td>\n",
       "      <td>3.000000</td>\n",
       "      <td>80.000000</td>\n",
       "      <td>8.000000</td>\n",
       "      <td>9.000000</td>\n",
       "      <td>512.329200</td>\n",
       "    </tr>\n",
       "  </tbody>\n",
       "</table>\n",
       "</div>"
      ],
      "text/plain": [
       "       PassengerId     Survived       Pclass          Age        SibSp  \\\n",
       "count  1309.000000  1309.000000  1309.000000  1309.000000  1309.000000   \n",
       "mean    655.000000     0.377387     2.294882    30.322131     0.498854   \n",
       "std     378.020061     0.484918     0.837836    13.365722     1.041658   \n",
       "min       1.000000     0.000000     1.000000     0.170000     0.000000   \n",
       "25%     328.000000     0.000000     2.000000    22.000000     0.000000   \n",
       "50%     655.000000     0.000000     3.000000    30.000000     0.000000   \n",
       "75%     982.000000     1.000000     3.000000    36.000000     1.000000   \n",
       "max    1309.000000     1.000000     3.000000    80.000000     8.000000   \n",
       "\n",
       "             Parch         Fare  \n",
       "count  1309.000000  1309.000000  \n",
       "mean      0.385027    33.276193  \n",
       "std       0.865560    51.743584  \n",
       "min       0.000000     0.000000  \n",
       "25%       0.000000     7.895800  \n",
       "50%       0.000000    14.454200  \n",
       "75%       0.000000    31.275000  \n",
       "max       9.000000   512.329200  "
      ]
     },
     "execution_count": 7,
     "metadata": {},
     "output_type": "execute_result"
    }
   ],
   "source": [
    "titanic.describe()"
   ]
  },
  {
   "cell_type": "markdown",
   "metadata": {},
   "source": [
    "mean字段告诉我们，大概0.377387的人最后获救了，2/3等舱的人数比1等舱要多，平均乘客年龄大概是30.3岁"
   ]
  },
  {
   "cell_type": "markdown",
   "metadata": {},
   "source": [
    "## 4. 数据分析及可视化\n",
    "\n",
    "在进行数据分析及可视化时，**依据每个问题选取所需切片并赋值给新的 DataFrame 再进行分析和可视化展示，这样数据不易乱且条理更清晰。**\n",
    "\n",
    "![](images/news.jpg)"
   ]
  },
  {
   "cell_type": "markdown",
   "metadata": {},
   "source": [
    "**正常显示中文的设置**"
   ]
  },
  {
   "cell_type": "code",
   "execution_count": 8,
   "metadata": {},
   "outputs": [],
   "source": [
    "plt.rcParams['font.sans-serif'] = ['SimHei'] #用来正常显示中文标签\n",
    "plt.rcParams['axes.unicode_minus'] = False #用来正常显示负号\n",
    "\n",
    "# plt.style.use('ggplot')   # R 中的 ggplot 的效果"
   ]
  },
  {
   "cell_type": "markdown",
   "metadata": {},
   "source": [
    "### （1）整体来看，存活比例如何？\n",
    "\n",
    "获取生还比例 (即统计 Survived 列中值 0 和 1 的出现次数)"
   ]
  },
  {
   "cell_type": "code",
   "execution_count": 9,
   "metadata": {},
   "outputs": [
    {
     "data": {
      "text/plain": [
       "0    815\n",
       "1    494\n",
       "Name: Survived, dtype: int64"
      ]
     },
     "execution_count": 9,
     "metadata": {},
     "output_type": "execute_result"
    }
   ],
   "source": [
    "titanic['Survived'].value_counts()"
   ]
  },
  {
   "cell_type": "markdown",
   "metadata": {},
   "source": [
    "可视化生还**占比**情况，试试**饼图**吧。"
   ]
  },
  {
   "cell_type": "code",
   "execution_count": 10,
   "metadata": {},
   "outputs": [
    {
     "data": {
      "image/png": "[encoded data removed]",
      "text/plain": [
       "<Figure size 576x576 with 1 Axes>"
      ]
     },
     "metadata": {},
     "output_type": "display_data"
    }
   ],
   "source": [
    "totalscale = titanic['Survived'].value_counts()\n",
    "plt.figure(figsize=(8, 8))\n",
    "plt.pie(totalscale.values , \n",
    "        labels = ['死亡','生还'], \n",
    "#         shadow=True,\n",
    "        explode=[0,0.1],\n",
    "        textprops={'fontsize':14,'color':'black'},\n",
    "        autopct='%1.2f%%')\n",
    "# 添加图标题\n",
    "plt.title('Titanic生还比例',fontdict={'fontweight':500, 'size':16})\n",
    "\n",
    "plt.legend()\n",
    "plt.show()"
   ]
  },
  {
   "cell_type": "markdown",
   "metadata": {},
   "source": [
    "### （2）结合性别和年龄数据，分析幸存下来的人是哪些人？\n",
    "\n",
    ">要求：\n",
    ">① 年龄数据的分布情况\n",
    ">② 男性和女性存活情况\n",
    ">③ 老人和小孩存活情况\n",
    "\n",
    "**灾难面前，生死存亡之际，男士们是否让妇孺优先，展现出了高贵的骑士精神？**\n",
    "\n",
    "![](images/titanic01.jpg)"
   ]
  },
  {
   "cell_type": "markdown",
   "metadata": {},
   "source": [
    "**选取 titanic 的['Survived','Age','Sex']几列，得到一个 DataFrame ，赋值为 age_df**"
   ]
  },
  {
   "cell_type": "code",
   "execution_count": 11,
   "metadata": {
    "scrolled": false
   },
   "outputs": [
    {
     "data": {
      "text/html": [
       "<div>\n",
       "<style scoped>\n",
       "    .dataframe tbody tr th:only-of-type {\n",
       "        vertical-align: middle;\n",
       "    }\n",
       "\n",
       "    .dataframe tbody tr th {\n",
       "        vertical-align: top;\n",
       "    }\n",
       "\n",
       "    .dataframe thead th {\n",
       "        text-align: right;\n",
       "    }\n",
       "</style>\n",
       "<table border=\"1\" class=\"dataframe\">\n",
       "  <thead>\n",
       "    <tr style=\"text-align: right;\">\n",
       "      <th></th>\n",
       "      <th>Survived</th>\n",
       "      <th>Age</th>\n",
       "      <th>Sex</th>\n",
       "    </tr>\n",
       "  </thead>\n",
       "  <tbody>\n",
       "    <tr>\n",
       "      <th>0</th>\n",
       "      <td>0</td>\n",
       "      <td>22.0</td>\n",
       "      <td>male</td>\n",
       "    </tr>\n",
       "    <tr>\n",
       "      <th>1</th>\n",
       "      <td>1</td>\n",
       "      <td>38.0</td>\n",
       "      <td>female</td>\n",
       "    </tr>\n",
       "    <tr>\n",
       "      <th>2</th>\n",
       "      <td>1</td>\n",
       "      <td>26.0</td>\n",
       "      <td>female</td>\n",
       "    </tr>\n",
       "    <tr>\n",
       "      <th>3</th>\n",
       "      <td>1</td>\n",
       "      <td>35.0</td>\n",
       "      <td>female</td>\n",
       "    </tr>\n",
       "    <tr>\n",
       "      <th>4</th>\n",
       "      <td>0</td>\n",
       "      <td>35.0</td>\n",
       "      <td>male</td>\n",
       "    </tr>\n",
       "  </tbody>\n",
       "</table>\n",
       "</div>"
      ],
      "text/plain": [
       "   Survived   Age     Sex\n",
       "0         0  22.0    male\n",
       "1         1  38.0  female\n",
       "2         1  26.0  female\n",
       "3         1  35.0  female\n",
       "4         0  35.0    male"
      ]
     },
     "execution_count": 11,
     "metadata": {},
     "output_type": "execute_result"
    }
   ],
   "source": [
    "# 筛选年龄和性别数据\n",
    "age_df = titanic.loc[:, ['Survived','Age','Sex']]\n",
    "age_df.head()"
   ]
  },
  {
   "cell_type": "markdown",
   "metadata": {},
   "source": [
    "试分析年龄的**分布**情况。\n",
    "\n",
    "试试**直方图**吧"
   ]
  },
  {
   "cell_type": "code",
   "execution_count": 12,
   "metadata": {
    "scrolled": false
   },
   "outputs": [
    {
     "data": {
      "image/png": "[encoded data removed]",
      "text/plain": [
       "<Figure size 1152x432 with 1 Axes>"
      ]
     },
     "metadata": {
      "needs_background": "light"
     },
     "output_type": "display_data"
    }
   ],
   "source": [
    "fig = plt.figure( figsize =(16,6) )\n",
    "\n",
    "plt.hist( age_df['Age'],bins = 40, color = 'steelblue', edgecolor = 'w' )\n",
    "plt.xlabel('年龄')\n",
    "plt.ylabel('乘客人数')\n",
    "plt.title('年龄分布直方图')\n",
    "\n",
    "plt.show()"
   ]
  },
  {
   "cell_type": "markdown",
   "metadata": {},
   "source": [
    "**分析男女生还比例**\n",
    "\n",
    "提示：将 age_df 分组，分组标签为'Sex'，并求其平均值"
   ]
  },
  {
   "cell_type": "code",
   "execution_count": 13,
   "metadata": {},
   "outputs": [
    {
     "data": {
      "text/html": [
       "<div>\n",
       "<style scoped>\n",
       "    .dataframe tbody tr th:only-of-type {\n",
       "        vertical-align: middle;\n",
       "    }\n",
       "\n",
       "    .dataframe tbody tr th {\n",
       "        vertical-align: top;\n",
       "    }\n",
       "\n",
       "    .dataframe thead th {\n",
       "        text-align: right;\n",
       "    }\n",
       "</style>\n",
       "<table border=\"1\" class=\"dataframe\">\n",
       "  <thead>\n",
       "    <tr style=\"text-align: right;\">\n",
       "      <th></th>\n",
       "      <th>Survived</th>\n",
       "      <th>Age</th>\n",
       "    </tr>\n",
       "    <tr>\n",
       "      <th>Sex</th>\n",
       "      <th></th>\n",
       "      <th></th>\n",
       "    </tr>\n",
       "  </thead>\n",
       "  <tbody>\n",
       "    <tr>\n",
       "      <th>female</th>\n",
       "      <td>0.82618</td>\n",
       "      <td>28.748047</td>\n",
       "    </tr>\n",
       "    <tr>\n",
       "      <th>male</th>\n",
       "      <td>0.12930</td>\n",
       "      <td>31.192266</td>\n",
       "    </tr>\n",
       "  </tbody>\n",
       "</table>\n",
       "</div>"
      ],
      "text/plain": [
       "        Survived        Age\n",
       "Sex                        \n",
       "female   0.82618  28.748047\n",
       "male     0.12930  31.192266"
      ]
     },
     "execution_count": 13,
     "metadata": {},
     "output_type": "execute_result"
    }
   ],
   "source": [
    "age_df.groupby(['Sex']).mean()"
   ]
  },
  {
   "cell_type": "markdown",
   "metadata": {},
   "source": [
    "以上为不同性别的生存率，可见在泰坦尼克号事故中，还是体现了 **Lady First**.\n",
    "\n",
    "**计算不同年龄段，不同性别的生存率，并绘制柱状图和折线图（<font color='red'>此图内容根据兴趣自行学习，不要求掌握。不感兴趣？跳过即可！</font>）**\n",
    "\n",
    "提示：\n",
    "```python\n",
    "# 按10岁为间隔划分成不同年龄段\n",
    "s = np.arange(0,81,10)\n",
    "age_df['cut'] = pd.cut(age_df['Age'],bins = s )\n",
    "```\n",
    "* 根据 age_df 中性别，年龄段，是否存活分组，得到DataFrame，并计数(可使用 size 或 count。size 计数时包含 NaN 值，而 count 不包含 NaN 值)。用 reset_index重设 index ,结果命名为age_cut_df\n",
    "\n",
    "* 再根据是否存活，将 age_cut_df 数据分成两部分(age_cut_df['Survived'] == 1 即生还；age_cut_df['Survived'] == 0 即遇难)\n",
    "\n",
    "* 根据性别和年龄段连接上一步得到的生还数据和遇难数据，添加 total 列并计算各年龄段的总人数，添加 sur_per 列计算各年龄段的存活率。"
   ]
  },
  {
   "cell_type": "code",
   "execution_count": 15,
   "metadata": {
    "scrolled": false
   },
   "outputs": [
    {
     "data": {
      "image/png": "[encoded data removed]",
      "text/plain": [
       "<Figure size 864x864 with 2 Axes>"
      ]
     },
     "metadata": {
      "needs_background": "light"
     },
     "output_type": "display_data"
    }
   ],
   "source": [
    "# 按10岁为间隔划分成不同年龄段\n",
    "s = np.arange(0,81,10)\n",
    "age_df['cut'] = pd.cut(age_df['Age'],bins = s )\n",
    "\n",
    "#根据性别，年龄段，是否存活分组\n",
    "age_cut_df = age_df.groupby(['Survived','Sex','cut']).size().reset_index()  # size计数时包含NaN值，而count不包含NaN值\n",
    "#根据是否存活，将数据分成两部分\n",
    "age_sur = age_cut_df[age_cut_df['Survived'] == 1]\n",
    "age_non = age_cut_df[age_cut_df['Survived'] == 0]\n",
    "\n",
    "#根据性别和年龄段连接数据\n",
    "age_c_df = pd.merge(age_sur,age_non,on = ['Sex','cut'],how = 'outer',suffixes=('_s','_n'))\n",
    "age_c_df = age_c_df.loc[:,['cut','Sex','0_s','0_n']]\n",
    "#重命名字段，填充空值\n",
    "age_c_df.columns = ['age_cut','sex','survived','non_survived']\n",
    "age_c_df.loc[:,['survived','non_survived']] = age_c_df.loc[:,['survived','non_survived']].fillna(0)\n",
    "#添加各年龄段总人数字段\n",
    "age_c_df['total'] = age_c_df['survived'] + age_c_df['non_survived']\n",
    "#计算各年龄段存活率字段\n",
    "age_c_df['sur_per'] = age_c_df['survived'] / age_c_df['total']\n",
    "\n",
    "# 创建子图对象\n",
    "fig, axes = plt.subplots(2,1,figsize=(12, 12))\n",
    "\n",
    "labels = age_c_df['age_cut'].unique()\n",
    "x = np.arange(len(labels))\n",
    "bar_width = 0.4\n",
    "\n",
    "# 绘制各年龄段男性和女性人数柱状图\n",
    "axes[0].bar(x - 0.2, age_c_df.loc[age_c_df.sex == 'female','total'],label = '女士人数',edgecolor = 'w', color = 'skyblue',  width=bar_width)\n",
    "axes[0].bar(x + 0.2, age_c_df.loc[age_c_df.sex == 'male','total'],label = '男士人数',edgecolor = 'w',color = 'steelblue',  width=bar_width)\n",
    "# 绘制各年龄段幸存者男性和女性人数柱状图\n",
    "axes[0].bar(x - 0.2, age_c_df.loc[age_c_df.sex == 'female','survived'],label = '女士生还人数',edgecolor = 'w', color = 'salmon', alpha = 0.8, width=bar_width)\n",
    "axes[0].bar(x + 0.2, age_c_df.loc[age_c_df.sex == 'male','survived'],label = '男士生还人数',edgecolor = 'w',color = 'tomato', alpha = 0.8, width=bar_width)\n",
    "\n",
    "# 添加轴标签\n",
    "axes[0].set_xlabel('乘客年龄段')\n",
    "axes[0].set_ylabel('乘客人数')\n",
    "\n",
    "# 添加标题\n",
    "axes[0].set_title('乘客各年龄段人数分布')\n",
    "\n",
    "# 添加刻度标签\n",
    "axes[0].set_xticks(x)\n",
    "axes[0].set_xticklabels(labels)\n",
    "\n",
    "# 显示网格线\n",
    "axes[0].grid(linestyle='--')\n",
    "# 显示图例\n",
    "axes[0].legend()\n",
    "\n",
    "# 绘制各年龄段不同性别的生存率折线图\n",
    "axes[1].plot(x, age_c_df.loc[age_c_df.sex == 'female','sur_per'], color='chocolate', marker='o', markersize=10, label=\"女士生还率\")\n",
    "axes[1].plot(x, age_c_df.loc[age_c_df.sex == 'male','sur_per'], color='steelblue', marker='o', markersize=10, label=\"男士生还率\")\n",
    "\n",
    "# 添加轴标签\n",
    "axes[1].set_xlabel('乘客年龄段')\n",
    "axes[1].set_ylabel('乘客生还率')\n",
    "\n",
    "# 添加标题\n",
    "axes[1].set_title('乘客各年龄段生还率分布')\n",
    "\n",
    "# 添加刻度标签\n",
    "axes[1].set_xticks(x)\n",
    "axes[1].set_xticklabels(labels)\n",
    "\n",
    "# 显示网格线\n",
    "axes[1].grid(linestyle='--')\n",
    "# 显示图例\n",
    "axes[1].legend()\n",
    "\n",
    "# 显示图形\n",
    "plt.show()"
   ]
  },
  {
   "cell_type": "markdown",
   "metadata": {},
   "source": [
    "试试绘制不同年龄下的平均生存率的**柱形图**或**折线图吧**"
   ]
  },
  {
   "cell_type": "code",
   "execution_count": 17,
   "metadata": {},
   "outputs": [
    {
     "data": {
      "image/png": "[encoded data removed]",
      "text/plain": [
       "<Figure size 1296x288 with 1 Axes>"
      ]
     },
     "metadata": {
      "needs_background": "light"
     },
     "output_type": "display_data"
    }
   ],
   "source": [
    "# 不同年龄下的平均生存率：\n",
    "fig,axis1 = plt.subplots(1,1,figsize=(18,4))\n",
    "titanic['Age_int'] = titanic['Age'].astype(int)  # 或者 .apply(lambda x:int(x))\n",
    "average_age = titanic.loc[:, [\"Age_int\", \"Survived\"]].groupby(['Age_int']).mean().reset_index()\n",
    "# 或者这样写\n",
    "# average_age = titanic.loc[:, [\"Age_int\", \"Survived\"]].groupby(['Age_int'],as_index=False).mean()\n",
    "\n",
    "# 绘制柱形图\n",
    "plt.bar(average_age['Age_int'], average_age['Survived'], label='Survived')\n",
    "\n",
    "# 添加图例\n",
    "plt.legend()\n",
    "plt.xticks(np.arange(0,81))\n",
    "plt.xlabel('年龄')\n",
    "plt.ylabel('生还率')\n",
    "plt.title('不同年龄生还率')\n",
    "\n",
    "plt.show()"
   ]
  },
  {
   "cell_type": "code",
   "execution_count": 18,
   "metadata": {},
   "outputs": [
    {
     "data": {
      "image/png": "[encoded data removed]",
      "text/plain": [
       "<Figure size 1296x288 with 1 Axes>"
      ]
     },
     "metadata": {
      "needs_background": "light"
     },
     "output_type": "display_data"
    }
   ],
   "source": [
    "# 不同年龄下的平均生存率：\n",
    "fig,axis1 = plt.subplots(1,1,figsize=(18,4))\n",
    "titanic['Age_int'] = titanic['Age'].astype(int)  # 或者 .apply(lambda x:int(x))\n",
    "average_age = titanic.loc[:, [\"Age_int\", \"Survived\"]].groupby(['Age_int']).mean().reset_index()\n",
    "# 或者这样写\n",
    "# average_age = titanic.loc[:, [\"Age_int\", \"Survived\"]].groupby(['Age_int'],as_index=False).mean()\n",
    "\n",
    "# 绘制折线图\n",
    "plt.plot(average_age['Age_int'], average_age['Survived'],color='chocolate', marker='o', markersize=10, label='Survived')\n",
    "\n",
    "# 添加图例\n",
    "plt.legend()\n",
    "plt.xticks(np.arange(0,81,10))\n",
    "plt.xlabel('年龄')\n",
    "plt.ylabel('生还率')\n",
    "plt.title('不同年龄生还率')\n",
    "\n",
    "plt.show()"
   ]
  },
  {
   "cell_type": "markdown",
   "metadata": {},
   "source": [
    "**绘制年龄与生存率的散点图**"
   ]
  },
  {
   "cell_type": "code",
   "execution_count": 19,
   "metadata": {},
   "outputs": [
    {
     "data": {
      "image/png": "[encoded data removed]",
      "text/plain": [
       "<Figure size 864x432 with 1 Axes>"
      ]
     },
     "metadata": {
      "needs_background": "light"
     },
     "output_type": "display_data"
    }
   ],
   "source": [
    "plt.figure(figsize=(12, 6))\n",
    "\n",
    "plt.scatter(average_age['Age_int'],  # x轴数据\n",
    "            average_age['Survived'], # y轴数据\n",
    "            s = 300,      # 设置点的大小 \n",
    "            c = 'coral',   # 设置点的颜色\n",
    "            alpha = .7,      # 设置点的透明度\n",
    "            linewidths = .5, # 设置散点边界的粗细\n",
    "            edgecolors = 'peachpuff' # 设置散点边界的颜色\n",
    "            )\n",
    "plt.show()"
   ]
  },
  {
   "cell_type": "markdown",
   "metadata": {},
   "source": [
    "根据分析可得以下结论： \n",
    "\n",
    "* 在这场事故中乘客存活率是37.74%，获救的乘客占总人数的小部分。 \n",
    "\n",
    "* 女性存活率为83.62%,男性存活率为12.93%,大部分女性获救，绝大部分男性乘客都遇难了，遇难最多的男性是20~30岁的青年男性。 \n",
    "\n",
    "* 男性乘客中除了0-10岁年龄段的存活率与女性相近以外，其他年龄段都远远低于女性，女性乘客中存活率最高的是60~70年龄段的。 \n",
    "\n",
    ">说明当时现场救援是按照女士，老人和小孩优先的原则进行的。 \n",
    "\n",
    "* 1等舱幸存者人数相比2,3等级要多,等级越高幸存者整体年龄越大，等级2,3中有较多10岁以下儿童幸存"
   ]
  },
  {
   "cell_type": "markdown",
   "metadata": {},
   "source": [
    "### （3）结合 SibSp、Parch字段，研究亲人多少与存活的关系\n",
    "\n",
    ">要求：\n",
    ">① 有无兄弟姐妹/父母子女和存活与否的关系\n",
    ">② 亲戚多少与存活与否的关系\n",
    "\n",
    "**亲情激发之牵挂，是否更能生发出生之希望？**\n",
    "\n",
    "> 父兮生我，母兮鞠我。抚我畜我，长我育我，顾我复我，出入腹我。欲报之德。昊天罔极! ----《诗经·小雅·蓼莪》\n",
    "\n",
    "![](images/titanic02.jpg)\n",
    "\n",
    "**选取 titanic 的['Survived','SibSp','Parch']几列，得到一个 DataFrame ，赋值为 sp_df**"
   ]
  },
  {
   "cell_type": "code",
   "execution_count": 20,
   "metadata": {},
   "outputs": [
    {
     "data": {
      "text/html": [
       "<div>\n",
       "<style scoped>\n",
       "    .dataframe tbody tr th:only-of-type {\n",
       "        vertical-align: middle;\n",
       "    }\n",
       "\n",
       "    .dataframe tbody tr th {\n",
       "        vertical-align: top;\n",
       "    }\n",
       "\n",
       "    .dataframe thead th {\n",
       "        text-align: right;\n",
       "    }\n",
       "</style>\n",
       "<table border=\"1\" class=\"dataframe\">\n",
       "  <thead>\n",
       "    <tr style=\"text-align: right;\">\n",
       "      <th></th>\n",
       "      <th>Survived</th>\n",
       "      <th>SibSp</th>\n",
       "      <th>Parch</th>\n",
       "    </tr>\n",
       "  </thead>\n",
       "  <tbody>\n",
       "    <tr>\n",
       "      <th>0</th>\n",
       "      <td>0</td>\n",
       "      <td>1</td>\n",
       "      <td>0</td>\n",
       "    </tr>\n",
       "    <tr>\n",
       "      <th>1</th>\n",
       "      <td>1</td>\n",
       "      <td>1</td>\n",
       "      <td>0</td>\n",
       "    </tr>\n",
       "    <tr>\n",
       "      <th>2</th>\n",
       "      <td>1</td>\n",
       "      <td>0</td>\n",
       "      <td>0</td>\n",
       "    </tr>\n",
       "    <tr>\n",
       "      <th>3</th>\n",
       "      <td>1</td>\n",
       "      <td>1</td>\n",
       "      <td>0</td>\n",
       "    </tr>\n",
       "    <tr>\n",
       "      <th>4</th>\n",
       "      <td>0</td>\n",
       "      <td>0</td>\n",
       "      <td>0</td>\n",
       "    </tr>\n",
       "  </tbody>\n",
       "</table>\n",
       "</div>"
      ],
      "text/plain": [
       "   Survived  SibSp  Parch\n",
       "0         0      1      0\n",
       "1         1      1      0\n",
       "2         1      0      0\n",
       "3         1      1      0\n",
       "4         0      0      0"
      ]
     },
     "execution_count": 20,
     "metadata": {},
     "output_type": "execute_result"
    }
   ],
   "source": [
    "#筛选SibSp、Parch数据\n",
    "sp_df = titanic.loc[:, ['Survived','SibSp','Parch']]\n",
    "sp_df.head()"
   ]
  },
  {
   "cell_type": "markdown",
   "metadata": {},
   "source": [
    "**亲友的人数和存活与否的关系 SibSp & Parch**\n",
    "\n",
    "在一个坐标系(子图)中可以混用多种图形。比如我们可以用柱形图和折线图混用来展示 Titanic 数据集中亲人数和生存率之间的关系。\n",
    "\n",
    "【参见 ```06 Matplotlib.ipynb``` 中的```3.7 综合运用```】"
   ]
  },
  {
   "cell_type": "code",
   "execution_count": 22,
   "metadata": {},
   "outputs": [
    {
     "data": {
      "image/png": "[encoded data removed]",
      "text/plain": [
       "<Figure size 1152x576 with 1 Axes>"
      ]
     },
     "metadata": {
      "needs_background": "light"
     },
     "output_type": "display_data"
    }
   ],
   "source": [
    "# 构建数据\n",
    "parch = titanic[['Parch','Survived']].groupby(['Parch']).mean().reset_index()\n",
    "sibsp = titanic[['SibSp','Survived']].groupby(['SibSp']).mean().reset_index()\n",
    "titanic['Family_Size'] = titanic['Parch'] + titanic['SibSp']   # 亲人总数 = 父母子女数 + 堂兄弟姊妹数\n",
    "family = titanic[['Family_Size','Survived']].groupby(['Family_Size']).mean().reset_index()\n",
    "bar_width = 0.4\n",
    "\n",
    "# 设置图形大小\n",
    "plt.figure(figsize=(16,8))\n",
    "\n",
    "# 绘柱形图\n",
    "plt.bar(parch.Parch - 0.2, parch.Survived, label = '父母子女', color = 'steelblue', alpha = 0.8, width = bar_width)\n",
    "plt.bar(sibsp.SibSp + 0.2, sibsp.Survived, label = '堂兄弟姊妹', color = 'indianred', alpha = 0.8, width = bar_width)\n",
    "# 绘折线图\n",
    "plt.plot(family.Family_Size, family.Survived, color='chocolate', marker='o', markersize=10, label=\"亲人总数\")\n",
    "\n",
    "# 添加轴标签\n",
    "plt.xlabel('亲人人数')\n",
    "plt.ylabel('生还率')\n",
    "\n",
    "# 添加标题\n",
    "plt.title('亲人数与生还率之间的关系')\n",
    "\n",
    "# 添加刻度标签\n",
    "plt.xticks(np.arange(11))\n",
    "    \n",
    "# 显示图例\n",
    "plt.legend()\n",
    "\n",
    "# 显示图形\n",
    "plt.show()"
   ]
  },
  {
   "cell_type": "markdown",
   "metadata": {},
   "source": [
    "从图表中可以看出，若独自一人，那么其存活率比较低；但是如果亲友太多的话，存活率也会很低。\n",
    "\n",
    "根据分析可得以下结论： \n",
    "\n",
    "* 家庭成员在1-3人的乘客的存活率相比单生一人和家庭成员人数超过3人的乘客更高。 \n",
    "\n",
    "* 有1-2个小孩的乘客的存活率更高。 \n",
    "\n",
    "* 说明在救援中对有小孩的乘客会优先照顾，但是小孩太多则可能会因为公平原则无法优先考虑。"
   ]
  },
  {
   "cell_type": "markdown",
   "metadata": {},
   "source": [
    "### （4）结合票的费用情况，研究票价和存活与否的关系\n",
    "\n",
    ">要求：\n",
    ">① 票价分布和存活与否的关系\n",
    ">② 比较研究生还者和未生还者的票价情况\n",
    "\n",
    "![](images/titanic03.jpg)\n",
    "\n",
    "**选取 titanic 的['Survived','Pclass','Fare']几列，得到一个 DataFrame ，赋值为 fare_df**"
   ]
  },
  {
   "cell_type": "code",
   "execution_count": null,
   "metadata": {},
   "outputs": [],
   "source": [
    "fare_df = titanic.loc[:, ['Survived','Pclass','Fare']]"
   ]
  },
  {
   "cell_type": "markdown",
   "metadata": {},
   "source": [
    "**绘制乘客票价直方图**"
   ]
  },
  {
   "cell_type": "code",
   "execution_count": 23,
   "metadata": {},
   "outputs": [
    {
     "data": {
      "image/png": "[encoded data removed]",
      "text/plain": [
       "<Figure size 864x288 with 1 Axes>"
      ]
     },
     "metadata": {
      "needs_background": "light"
     },
     "output_type": "display_data"
    }
   ],
   "source": [
    "fare_df = titanic.loc[:, ['Survived','Pclass','Fare']]\n",
    "\n",
    "plt.figure(figsize = (12,4))\n",
    "\n",
    "plt.hist(fare_df.Fare, # 绘图数据\n",
    "         bins = 40, # 指定直方图的条形数为20个\n",
    "         color = 'steelblue', # 指定填充色\n",
    "         edgecolor = 'k', # 指定直方图的边界色\n",
    "         label = '票价频次' )# 为直方图呈现标签\n",
    "\n",
    "# 设置坐标轴标签和标题\n",
    "plt.title('乘客票价频次直方图')\n",
    "plt.xlabel('票价')\n",
    "plt.ylabel('人数')\n",
    "\n",
    "# 显示图例\n",
    "plt.legend()\n",
    "# 显示图形\n",
    "plt.show()"
   ]
  },
  {
   "cell_type": "code",
   "execution_count": 64,
   "metadata": {},
   "outputs": [
    {
     "data": {
      "text/html": [
       "<div>\n",
       "<style scoped>\n",
       "    .dataframe tbody tr th:only-of-type {\n",
       "        vertical-align: middle;\n",
       "    }\n",
       "\n",
       "    .dataframe tbody tr th {\n",
       "        vertical-align: top;\n",
       "    }\n",
       "\n",
       "    .dataframe thead th {\n",
       "        text-align: right;\n",
       "    }\n",
       "</style>\n",
       "<table border=\"1\" class=\"dataframe\">\n",
       "  <thead>\n",
       "    <tr style=\"text-align: right;\">\n",
       "      <th></th>\n",
       "      <th>Survived</th>\n",
       "      <th>Fare</th>\n",
       "    </tr>\n",
       "    <tr>\n",
       "      <th>Pclass</th>\n",
       "      <th></th>\n",
       "      <th></th>\n",
       "    </tr>\n",
       "  </thead>\n",
       "  <tbody>\n",
       "    <tr>\n",
       "      <th>1</th>\n",
       "      <td>186</td>\n",
       "      <td>87.508992</td>\n",
       "    </tr>\n",
       "    <tr>\n",
       "      <th>2</th>\n",
       "      <td>117</td>\n",
       "      <td>21.179196</td>\n",
       "    </tr>\n",
       "    <tr>\n",
       "      <th>3</th>\n",
       "      <td>191</td>\n",
       "      <td>13.295480</td>\n",
       "    </tr>\n",
       "  </tbody>\n",
       "</table>\n",
       "</div>"
      ],
      "text/plain": [
       "        Survived       Fare\n",
       "Pclass                     \n",
       "1            186  87.508992\n",
       "2            117  21.179196\n",
       "3            191  13.295480"
      ]
     },
     "execution_count": 64,
     "metadata": {},
     "output_type": "execute_result"
    }
   ],
   "source": [
    "fare_df.groupby(['Pclass']).agg({'Survived':'sum','Fare':'mean'})"
   ]
  },
  {
   "cell_type": "markdown",
   "metadata": {},
   "source": [
    "根据分析可得以下结论： \n",
    "\n",
    "* 票价整体呈现指数下降，绝大部分乘客的票价都比较低。从等级舱票价箱型图可知，不同等级舱的票价相差很大，3等舱的大部分票价都不超过20. \n",
    "\n",
    "* 幸存者的平均票价高于遇难者，幸存车票价票价分布差异较大，遇难者票价分布差距较小。 \n",
    "\n",
    "* 说明在救援中票价高的人存活率更高，在救援中按等级舱分为不同的优先等级。"
   ]
  },
  {
   "cell_type": "markdown",
   "metadata": {},
   "source": [
    "### （5）称呼与存活与否的关系分析\n",
    "\n",
    "> 能力越大,责任就越大!\n",
    "\n",
    "> With great power comes great responsibility！\n",
    "\n",
    ">                                    ---- 蜘蛛侠\n",
    "\n",
    "**能力越大,责任就越大! 真的是这样吗？**\n",
    "\n",
    "![](images/titanic04.jpg)"
   ]
  },
  {
   "cell_type": "markdown",
   "metadata": {},
   "source": [
    "**观察不同称呼与生存率的关系**\n",
    "\n",
    "选取 titanic 的['Title','Age','Survived']几列，得到一个 DataFrame ，并将其分组，分组标签为['Title']，并求其平均值,命名为 title_df"
   ]
  },
  {
   "cell_type": "code",
   "execution_count": 32,
   "metadata": {},
   "outputs": [],
   "source": [
    "# 构建数据\n",
    "title_df = titanic.loc[:,['Title','Age','Survived']].groupby(['Title']).mean()"
   ]
  },
  {
   "cell_type": "markdown",
   "metadata": {},
   "source": [
    "**绘制不同称呼与生存率的关系的柱形图，绘制不同称呼乘客的平均年龄柱形图，最好两张图并排放置。(提示：plt.subplots( nrows=1, ncols=2))**"
   ]
  },
  {
   "cell_type": "code",
   "execution_count": 24,
   "metadata": {
    "scrolled": false
   },
   "outputs": [
    {
     "data": {
      "image/png": "[encoded data removed]",
      "text/plain": [
       "<Figure size 1152x504 with 2 Axes>"
      ]
     },
     "metadata": {
      "needs_background": "light"
     },
     "output_type": "display_data"
    }
   ],
   "source": [
    "# 构建数据\n",
    "title_df = titanic.loc[:,['Title','Age','Survived']].groupby(['Title']).mean()\n",
    "\n",
    "# 设置图和坐标系\n",
    "fig, axes = plt.subplots( nrows=1, ncols=2, figsize=(16,7) )\n",
    "\n",
    "# 绘制柱形图\n",
    "index = np.arange(len(title_df.index))\n",
    "axes[0].bar( index, title_df.Survived, color='tomato')\n",
    "axes[0].set_xticks( index )\n",
    "axes[0].set_xticklabels( title_df.index )\n",
    "axes[0].set_xlabel('称呼')\n",
    "axes[0].set_ylabel('生还率')\n",
    "axes[0].set_title('不同称呼生还率')\n",
    "\n",
    "# 绘制条形图\n",
    "axes[1].bar(index,title_df.Age)\n",
    "axes[1].set_xticks( index )\n",
    "axes[1].set_xticklabels( title_df.index )\n",
    "for x,y in zip(index, title_df.Age):\n",
    "    axes[1].text(x,y,'{0:.1f}'.format(y),horizontalalignment='center', verticalalignment='bottom', fontdict={'fontweight':500, 'size':12})\n",
    "axes[1].set_xlabel('称呼')\n",
    "axes[1].set_ylabel('乘客的平均年龄')\n",
    "axes[1].set_title('不同称呼乘客的平均年龄')\n",
    "\n",
    "# plt.tight_layout()\n",
    "plt.show()"
   ]
  },
  {
   "cell_type": "markdown",
   "metadata": {},
   "source": [
    "“贵妇人”的生存率是100%，真是太让人惊奇了！！"
   ]
  },
  {
   "cell_type": "markdown",
   "metadata": {},
   "source": [
    "## 5. 总结\n",
    "\n",
    "> 梳理分析结果形成结论。通过提炼隐藏在数据背后的信息，总结出所研究对象的内在规律的目的，以期获得有价值的产品、服务，或深刻的洞见!\n",
    "\n",
    "* **<font color='red'>该项目是一个经典的数据分析练手项目</font>**。这里仅选取了几个主要的因素，分析其与乘客的存活率之间的联系。尚有很多可继续分析挖掘之处，如不同等级舱不同性别各个年龄段的存活率等。\n",
    "\n",
    "* **<font color='red'>功夫在诗外</font>**。更深入的分析需要更多的数理统计方面的知识(如统计学，线性代数等)，以及对数据的理解。如此，才能熟稔数据分析背后的原理。\n",
    "\n",
    "* **<font color='red'>聊抛一砖以引玉，盼我燕大诸子尽心之、努力之</font>。**"
   ]
  }
 ],
 "metadata": {
  "kernelspec": {
   "display_name": "Python 3",
   "language": "python",
   "name": "python3"
  },
  "language_info": {
   "codemirror_mode": {
    "name": "ipython",
    "version": 3
   },
   "file_extension": ".py",
   "mimetype": "text/x-python",
   "name": "python",
   "nbconvert_exporter": "python",
   "pygments_lexer": "ipython3",
   "version": "3.7.3"
  },
  "toc": {
   "base_numbering": 1,
   "nav_menu": {},
   "number_sections": true,
   "sideBar": true,
   "skip_h1_title": false,
   "title_cell": "Table of Contents",
   "title_sidebar": "Contents",
   "toc_cell": false,
   "toc_position": {},
   "toc_section_display": true,
   "toc_window_display": false
  }
 },
 "nbformat": 4,
 "nbformat_minor": 2
}
